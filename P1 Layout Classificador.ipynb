{
 "cells": [
  {
   "cell_type": "markdown",
   "source": [
    "# Projeto 1 - Ciência dos Dados"
   ],
   "metadata": {
    "id": "IiUqx-miX15P"
   }
  },
  {
   "cell_type": "markdown",
   "source": [
    "Nome: Gabriela Kimi Katsurayama\n",
    "\n",
    "Nome: João Pedro Rodrigues dos Santos\n",
    "\n",
    "Nome: Luiza Ferreira Ehrenberger"
   ],
   "metadata": {
    "id": "GO837r2VX15T"
   }
  },
  {
   "cell_type": "markdown",
   "source": [
    "Atenção: Serão permitidos grupos de três pessoas, mas com uma rubrica mais exigente. Grupos deste tamanho precisarão fazer um questionário de avaliação de trabalho em equipe"
   ],
   "metadata": {
    "id": "P17y8cIrX15T"
   }
  },
  {
   "cell_type": "markdown",
   "source": [
    "___\n",
    "Carregando algumas bibliotecas:"
   ],
   "metadata": {
    "id": "BYOA26a0X15U"
   }
  },
  {
   "cell_type": "code",
   "execution_count": 1,
   "source": [
    "%matplotlib inline\r\n",
    "import pandas as pd\r\n",
    "import matplotlib.pyplot as plt\r\n",
    "import numpy as np\r\n",
    "import os\r\n",
    "import re \r\n",
    "import nltk\r\n",
    "import string\r\n",
    "from nltk.corpus import stopwords\r\n",
    "#nltk.download('stopwords')\r\n",
    "pd.set_option(\"display.max_colwidth\", None)"
   ],
   "outputs": [],
   "metadata": {
    "id": "SerHa6fpX15U"
   }
  },
  {
   "cell_type": "code",
   "execution_count": 2,
   "source": [
    "print('Esperamos trabalhar no diretório')\r\n",
    "print(os.getcwd())"
   ],
   "outputs": [
    {
     "output_type": "stream",
     "name": "stdout",
     "text": [
      "Esperamos trabalhar no diretório\n",
      "C:\\Users\\jpthe\\Ciencia de dados\\CD21-2\\P1 git\\Cdados1\n"
     ]
    }
   ],
   "metadata": {
    "id": "8s2qx-D_X15V",
    "outputId": "a82db708-bf34-49f1-f219-bd62376225e6",
    "scrolled": false
   }
  },
  {
   "cell_type": "markdown",
   "source": [
    "Carregando a base de dados com os tweets classificados como relevantes e não relevantes:"
   ],
   "metadata": {
    "id": "iHIKP3mFX15W"
   }
  },
  {
   "cell_type": "code",
   "execution_count": 3,
   "source": [
    "filename = 'Iphone 12.xlsx'"
   ],
   "outputs": [],
   "metadata": {
    "id": "emMrDcjEX15X"
   }
  },
  {
   "cell_type": "code",
   "execution_count": 4,
   "source": [
    "train = pd.read_excel(filename)\r\n",
    "train.head(5)"
   ],
   "outputs": [
    {
     "output_type": "execute_result",
     "data": {
      "text/html": [
       "<div>\n",
       "<style scoped>\n",
       "    .dataframe tbody tr th:only-of-type {\n",
       "        vertical-align: middle;\n",
       "    }\n",
       "\n",
       "    .dataframe tbody tr th {\n",
       "        vertical-align: top;\n",
       "    }\n",
       "\n",
       "    .dataframe thead th {\n",
       "        text-align: right;\n",
       "    }\n",
       "</style>\n",
       "<table border=\"1\" class=\"dataframe\">\n",
       "  <thead>\n",
       "    <tr style=\"text-align: right;\">\n",
       "      <th></th>\n",
       "      <th>Treinamento</th>\n",
       "      <th>Classificação</th>\n",
       "    </tr>\n",
       "  </thead>\n",
       "  <tbody>\n",
       "    <tr>\n",
       "      <th>0</th>\n",
       "      <td>eu do nada me pego rindo do professor falando de burguesia e tirando um iphone 12 pro max do bolso kkkkk</td>\n",
       "      <td>0</td>\n",
       "    </tr>\n",
       "    <tr>\n",
       "      <th>1</th>\n",
       "      <td>trocarias alguém da escola,por um iphone 12?\\n-waweeee eliane.😭</td>\n",
       "      <td>0</td>\n",
       "    </tr>\n",
       "    <tr>\n",
       "      <th>2</th>\n",
       "      <td>sobre o iphone 6s “não ter mais whatsapp”. é td mentira, a maioria ta no ios 12 pra cima, então deixem de alarme ate pq so vai sair se vc tiver no ios 9</td>\n",
       "      <td>3</td>\n",
       "    </tr>\n",
       "    <tr>\n",
       "      <th>3</th>\n",
       "      <td>ios 15 ja meu iphone n guenta nem o 12 direito https://t.co/mcshdy359r</td>\n",
       "      <td>4</td>\n",
       "    </tr>\n",
       "    <tr>\n",
       "      <th>4</th>\n",
       "      <td>nosso que pechincha 👀🙄uau 🙃\\nhttps://t.co/jyhyn71jch</td>\n",
       "      <td>0</td>\n",
       "    </tr>\n",
       "  </tbody>\n",
       "</table>\n",
       "</div>"
      ],
      "text/plain": [
       "                                                                                                                                                Treinamento  \\\n",
       "0                                                  eu do nada me pego rindo do professor falando de burguesia e tirando um iphone 12 pro max do bolso kkkkk   \n",
       "1                                                                                           trocarias alguém da escola,por um iphone 12?\\n-waweeee eliane.😭   \n",
       "2  sobre o iphone 6s “não ter mais whatsapp”. é td mentira, a maioria ta no ios 12 pra cima, então deixem de alarme ate pq so vai sair se vc tiver no ios 9   \n",
       "3                                                                                    ios 15 ja meu iphone n guenta nem o 12 direito https://t.co/mcshdy359r   \n",
       "4                                                                                                      nosso que pechincha 👀🙄uau 🙃\\nhttps://t.co/jyhyn71jch   \n",
       "\n",
       "   Classificação  \n",
       "0              0  \n",
       "1              0  \n",
       "2              3  \n",
       "3              4  \n",
       "4              0  "
      ]
     },
     "metadata": {},
     "execution_count": 4
    }
   ],
   "metadata": {
    "id": "J2KPDF_HX15X",
    "outputId": "802bbe52-3b48-442a-800c-7593a5555b6c"
   }
  },
  {
   "cell_type": "code",
   "execution_count": 5,
   "source": [
    "test = pd.read_excel(filename, sheet_name = 'Teste')\r\n",
    "test.head(5)"
   ],
   "outputs": [
    {
     "output_type": "execute_result",
     "data": {
      "text/html": [
       "<div>\n",
       "<style scoped>\n",
       "    .dataframe tbody tr th:only-of-type {\n",
       "        vertical-align: middle;\n",
       "    }\n",
       "\n",
       "    .dataframe tbody tr th {\n",
       "        vertical-align: top;\n",
       "    }\n",
       "\n",
       "    .dataframe thead th {\n",
       "        text-align: right;\n",
       "    }\n",
       "</style>\n",
       "<table border=\"1\" class=\"dataframe\">\n",
       "  <thead>\n",
       "    <tr style=\"text-align: right;\">\n",
       "      <th></th>\n",
       "      <th>Teste</th>\n",
       "      <th>Classificação</th>\n",
       "    </tr>\n",
       "  </thead>\n",
       "  <tbody>\n",
       "    <tr>\n",
       "      <th>0</th>\n",
       "      <td>queria lançar o iphone 12 mas é mto dinheiro numa coisa só, o certo é pegar o 11 que ai já da pra pegar agr</td>\n",
       "      <td>4.0</td>\n",
       "    </tr>\n",
       "    <tr>\n",
       "      <th>1</th>\n",
       "      <td>ganhei um iphone 12 pro max e o apple watch de presente 😍😍😍😍😍😍😍😍😍😍😍😍</td>\n",
       "      <td>0.0</td>\n",
       "    </tr>\n",
       "    <tr>\n",
       "      <th>2</th>\n",
       "      <td>@forsjin iphone? meu namorado pagou 1k no 12 fiquei em choque vius</td>\n",
       "      <td>1.0</td>\n",
       "    </tr>\n",
       "    <tr>\n",
       "      <th>3</th>\n",
       "      <td>tem uma criança que tá do meu lado que tem um iphone x e a mãe dele tem um 12 pro max. tô indignado com meu j7 todo quebrado</td>\n",
       "      <td>1.0</td>\n",
       "    </tr>\n",
       "    <tr>\n",
       "      <th>4</th>\n",
       "      <td>pensando que é tão besteira pra mim trocar meu iphone 11 pro 12 no natal</td>\n",
       "      <td>1.0</td>\n",
       "    </tr>\n",
       "  </tbody>\n",
       "</table>\n",
       "</div>"
      ],
      "text/plain": [
       "                                                                                                                          Teste  \\\n",
       "0                   queria lançar o iphone 12 mas é mto dinheiro numa coisa só, o certo é pegar o 11 que ai já da pra pegar agr   \n",
       "1                                                          ganhei um iphone 12 pro max e o apple watch de presente 😍😍😍😍😍😍😍😍😍😍😍😍   \n",
       "2                                                            @forsjin iphone? meu namorado pagou 1k no 12 fiquei em choque vius   \n",
       "3  tem uma criança que tá do meu lado que tem um iphone x e a mãe dele tem um 12 pro max. tô indignado com meu j7 todo quebrado   \n",
       "4                                                      pensando que é tão besteira pra mim trocar meu iphone 11 pro 12 no natal   \n",
       "\n",
       "   Classificação  \n",
       "0            4.0  \n",
       "1            0.0  \n",
       "2            1.0  \n",
       "3            1.0  \n",
       "4            1.0  "
      ]
     },
     "metadata": {},
     "execution_count": 5
    }
   ],
   "metadata": {
    "id": "vzF_vTLvX15X",
    "outputId": "f8f8f729-9449-49b4-d8fd-e413124f5b42"
   }
  },
  {
   "cell_type": "markdown",
   "source": [
    "___\n",
    "## Classificador automático de sentimento\n"
   ],
   "metadata": {
    "id": "NGn5EDWNX15Y"
   }
  },
  {
   "cell_type": "markdown",
   "source": [
    "Faça aqui uma descrição do seu produto e o que considerou como relevante ou não relevante na classificação dos tweets.\r\n",
    "\r\n",
    "\r\n",
    "Nós procuramos encontrar um produto de muita relevância no cenário mundial. Depois de muito debate, concluímos que o Iphone 12 era o ideal, uma vez que ele tem muita exposição e estamos na época de anúncio da nova geração.\r\n",
    "Colocamos 0 para tweets muito irrelevantes, 1 para tweets irrelevantes, 2 para posts neutros, 3 para posts relevantes e 4 para tweets extremamente relevantes. Tem cerca de 1250 na base total e uma boa porcentagem de tweets neutros/relevantes."
   ],
   "metadata": {
    "id": "p4_79at3X15Y"
   }
  },
  {
   "cell_type": "markdown",
   "source": [
    "___\n",
    "### Montando um Classificador Naive-Bayes\n",
    "\n",
    "Considerando apenas as mensagens da planilha Treinamento, ensine  seu classificador."
   ],
   "metadata": {
    "id": "qYvDywsMX15Y"
   }
  },
  {
   "cell_type": "code",
   "execution_count": 6,
   "source": [
    "from typing import Awaitable\r\n",
    "#Aqui nós estamos definindo as funções. Essa célula contém as funções responsáveis pela limpeza do texto.\r\n",
    "\r\n",
    "def cleanup(text):\r\n",
    "    \"\"\"\r\n",
    "        Função de limpeza muito simples que troca alguns sinais básicos por espaços\r\n",
    "    \"\"\"\r\n",
    "    #import string\r\n",
    "    punctuation = '[!-.:?;]' # Note que os sinais [] são delimitadores de um conjunto.\r\n",
    "    pattern = re.compile(punctuation)\r\n",
    "    text_subbed = re.sub(pattern, '', text)\r\n",
    "    return text_subbed\r\n",
    "\r\n",
    "def limpa_txt(txt):\r\n",
    "  carac = ['\\n', ':', '\"', '`', '!', '?', ';','(',')', '[', ']', '%', '&', ',', '.', '@', '/']\r\n",
    "  for i in txt:\r\n",
    "    if i in carac:\r\n",
    "        testador = txt.find(i)\r\n",
    "        txt = txt[:testador] + txt[testador+1:]\r\n",
    "  vn = arruma_esp(txt)\r\n",
    "  return vn\r\n",
    "\r\n",
    "def arruma_esp(txt):\r\n",
    "  i = 0\r\n",
    "  frase = ''\r\n",
    "  aa = 0\r\n",
    "  while i < len(txt)+1:\r\n",
    "    if i >= 1:\r\n",
    "        if i >= len(txt):\r\n",
    "            frase += txt[i-1]\r\n",
    "            return frase\r\n",
    "        else:     \r\n",
    "            if txt[i] == ' ' and txt[i-1] == ' ':\r\n",
    "                aa += 1\r\n",
    "            else:     \r\n",
    "                frase += txt[i-1]\r\n",
    "    i += 1\r\n",
    "\r\n",
    "def text_preproc(x):\r\n",
    "  para = stopwords.words(\"portuguese\")\r\n",
    "  x = x.lower()\r\n",
    "  x = ' '.join([word for word in x.split(' ') if word not in para])\r\n",
    "  x = re.sub(r'https*\\S+', ' ', x)\r\n",
    "  x = re.sub(r'@\\S+', ' ', x)\r\n",
    "  x = re.sub(r'#\\S+', ' ', x)\r\n",
    "  x = re.sub(r'\\'\\w+', '', x)\r\n",
    "  x = re.sub('[%s]' % re.escape(string.punctuation), ' ', x)\r\n",
    "  x = re.sub(r'\\w*\\d+\\w*', '', x)\r\n",
    "  x = re.sub(r'\\s{2,}', ' ', x)\r\n",
    "  return x\r\n",
    "\r\n",
    "def corta_frase(frase):\r\n",
    "    tt = frase.lower()\r\n",
    "    tt10 = cleanup(tt)\r\n",
    "    xa = re.sub(r'\\w*\\d+\\w*', '', tt10)\r\n",
    "    xb = re.sub(\"@\\S+\", \" \", xa)\r\n",
    "    xc = re.sub(\"https*\\S+\", \" \", xb)\r\n",
    "    xd = limpa_txt(xc)\r\n",
    "    return xd"
   ],
   "outputs": [],
   "metadata": {
    "id": "whxOWcjdX15Z"
   }
  },
  {
   "cell_type": "code",
   "execution_count": 7,
   "source": [
    "#Nessa célula tem as funções relacionadas ao processo de obtenção da classificação do tweet.\r\n",
    "#A função Classifica faz os cálculos das probabilidades (basicamente o código da aula 7 - Classificador Camões/Lusíadas)\r\n",
    "\r\n",
    "def classifica(frase_cortada):\r\n",
    "    resps = []\r\n",
    "    i = 0\r\n",
    "    probFraseDado0 = 1\r\n",
    "    probFraseDado1 = 1\r\n",
    "    probFraseDado2 = 1\r\n",
    "    probFraseDado3 = 1\r\n",
    "    probFraseDado4 = 1\r\n",
    "\r\n",
    "    while i < len(frase_cortada):\r\n",
    "        \r\n",
    "        \r\n",
    "        P_palavra0 = laplace0(frase_cortada[i])\r\n",
    "        P_palavra1 = laplace1(frase_cortada[i])\r\n",
    "        P_palavra2 = laplace2(frase_cortada[i])\r\n",
    "        P_palavra3 = laplace3(frase_cortada[i])\r\n",
    "        P_palavra4 = laplace4(frase_cortada[i])\r\n",
    "        \r\n",
    "        probFraseDado0 *= P_palavra0\r\n",
    "        probFraseDado1 *= P_palavra1\r\n",
    "        probFraseDado2 *= P_palavra2\r\n",
    "        probFraseDado3 *= P_palavra3\r\n",
    "        probFraseDado4 *= P_palavra4\r\n",
    "        i += 1\r\n",
    "    resp0 = probFraseDado0*prob0\r\n",
    "    resp1 = probFraseDado1*prob1\r\n",
    "    resp2 = probFraseDado2*prob2\r\n",
    "    resp3 = probFraseDado3*prob3\r\n",
    "    resp4 = probFraseDado4*prob4\r\n",
    "        \r\n",
    "\r\n",
    "    resps.append(resp0)\r\n",
    "    resps.append(resp1)\r\n",
    "    resps.append(resp2)\r\n",
    "    resps.append(resp3)\r\n",
    "    resps.append(resp4)\r\n",
    "\r\n",
    "    if max(resps) == resp2:\r\n",
    "        return 2\r\n",
    "    if max(resps) == resp0:\r\n",
    "        return 0\r\n",
    "    if max(resps) == resp1:\r\n",
    "        return 1\r\n",
    "    if max(resps) == resp3:\r\n",
    "        return 3\r\n",
    "    if max(resps) == resp4:\r\n",
    "        return 4\r\n",
    "\r\n",
    "#A função Accuracy calcula a precisão do classificador. Para tanto, ela pega os valores retornados da função Classifica e vê se são os mesmos presentes no dataframe.\r\n",
    "\r\n",
    "def accuracy():\r\n",
    "    certo = 0\r\n",
    "    numer = []\r\n",
    "    for index, row in test.iterrows():\r\n",
    "        r = classifica(corta_frase(row['Teste']))\r\n",
    "        if r == row['Classificação']:\r\n",
    "            certo += 1\r\n",
    "    numer.append(r)\r\n",
    "    return certo/len(test)\r\n",
    "\r\n",
    "#Aqui estão os cálculos da suavização de Laplace. Criamos uma função para cada classificação.\r\n",
    "def laplace0(x):\r\n",
    "    if x not in tabela_tts_mir:\r\n",
    "        qtd = 1\r\n",
    "    else:\r\n",
    "        qtd = 1 + tabela_tts_mir[x]\r\n",
    "        \r\n",
    "    deno = len(serie_tweets0) + len(set(serie_tweets_geral))\r\n",
    "    return qtd/deno\r\n",
    "\r\n",
    "def laplace1(x):\r\n",
    "    if x not in tabela_tts_ir:\r\n",
    "        qtd = 1\r\n",
    "    else:\r\n",
    "        qtd = 1 + tabela_tts_ir[x]\r\n",
    "        \r\n",
    "    deno = len(serie_tweets1) + len(set(serie_tweets_geral))\r\n",
    "    return qtd/deno\r\n",
    "\r\n",
    "def laplace2(x):\r\n",
    "    if x not in tabela_tts_n:\r\n",
    "        qtd = 1\r\n",
    "    else:\r\n",
    "        qtd = 1 + tabela_tts_n[x]\r\n",
    "        \r\n",
    "    deno = len(serie_tweets2) + len(set(serie_tweets_geral))\r\n",
    "    return qtd/deno\r\n",
    "\r\n",
    "def laplace3(x):\r\n",
    "    if x not in tabela_tts_r:\r\n",
    "        qtd = 1\r\n",
    "    else:\r\n",
    "        qtd = 1 + tabela_tts_r[x]\r\n",
    "        \r\n",
    "    deno = len(serie_tweets3) + len(set(serie_tweets_geral))\r\n",
    "    return qtd/deno\r\n",
    "\r\n",
    "def laplace4(x):\r\n",
    "    if x not in tabela_tts_mr:\r\n",
    "        qtd = 1\r\n",
    "    else:\r\n",
    "        qtd = 1 + tabela_tts_mr[x]\r\n",
    "        \r\n",
    "    deno = len(serie_tweets5) + len(set(serie_tweets_geral))\r\n",
    "    return qtd/deno"
   ],
   "outputs": [],
   "metadata": {}
  },
  {
   "cell_type": "code",
   "execution_count": 8,
   "source": [
    "#Aqui é o começo do caminho de classificação. \r\n",
    "#O primeiro passo é criar dataframes só com os tweets de cada categoria\r\n",
    "#Fazemos isso usando a função loc do pandas\r\n",
    "\r\n",
    "filtra_linhas_0 = train['Classificação'] == 0\r\n",
    "mir = train.loc[filtra_linhas_0, :]\r\n",
    "\r\n",
    "filtra_linhas_1 = train['Classificação'] == 1\r\n",
    "ir = train.loc[filtra_linhas_1, :]\r\n",
    "\r\n",
    "filtra_linhas_2 = train['Classificação'] == 2\r\n",
    "n = train.loc[filtra_linhas_2, :]\r\n",
    "\r\n",
    "filtra_linhas_3 = train['Classificação'] == 3\r\n",
    "r = train.loc[filtra_linhas_3, :]\r\n",
    "\r\n",
    "filtra_linhas_4 = train['Classificação'] == 4\r\n",
    "mr = train.loc[filtra_linhas_4, :]\r\n",
    "\r\n",
    "\r\n",
    "#/----------------------------------------------------/\r\n",
    "\r\n",
    "#Agora que temos dataframes com tweets de mesma classificação, vamos começar a limpar os textos\r\n",
    "#O primeiro passo é transformar todas as linhas da coluna \"Treinamento\" em uma string MUITO grande\r\n",
    "\r\n",
    "m_i_r = mir['Treinamento'].to_string().lower()\r\n",
    "\r\n",
    "#Agora nós passamos a string na função que limpa URLs, menções e outros marcadores que podem prejudicar o classificador\r\n",
    "#Como faz parte da rubrica, nós deixamos os emojis dentro da string\r\n",
    "\r\n",
    "m_i_r2 = text_preproc(m_i_r)\r\n",
    "\r\n",
    "#Essa linha agora simplesmente separa a string em uma lista gigante de palavras\r\n",
    "m_i_r3 = m_i_r2.split()\r\n",
    "\r\n",
    "#Criamos uma Series para usar o value_counts\r\n",
    "serie_tweets0 = pd.Series(m_i_r3)\r\n",
    "\r\n",
    "#Por fim, criamos uma tabela de tweets relativa (mostra a porcentagem da palavra) e uma geral (mostra quantas vezes apareceu)\r\n",
    "tabela_tts_mir_relativa = serie_tweets0.value_counts(True)\r\n",
    "tabela_tts_mir = serie_tweets0.value_counts()\r\n",
    "\r\n",
    "#Repetimos esse processo para todas as classes\r\n",
    "\r\n",
    "ir_1 = ir['Treinamento'].to_string().lower()\r\n",
    "ir2 = text_preproc(ir_1)\r\n",
    "ir3 = ir2.split()\r\n",
    "serie_tweets1 = pd.Series(ir3)\r\n",
    "tabela_tts_ir_relativa = serie_tweets1.value_counts(True)\r\n",
    "tabela_tts_ir = serie_tweets1.value_counts()\r\n",
    "\r\n",
    "n_1 = n['Treinamento'].to_string().lower()\r\n",
    "n2 = text_preproc(n_1)\r\n",
    "n3 = n2.split()\r\n",
    "serie_tweets2 = pd.Series(n3)\r\n",
    "tabela_tts_n_relativa = serie_tweets2.value_counts(True)\r\n",
    "tabela_tts_n = serie_tweets2.value_counts()\r\n",
    "\r\n",
    "r_1 = r['Treinamento'].to_string().lower()\r\n",
    "r_2 = text_preproc(r_1)\r\n",
    "r_3 = r_2.split()\r\n",
    "serie_tweets3 = pd.Series(r_3)\r\n",
    "tabela_tts_r_relativa = serie_tweets3.value_counts(True)\r\n",
    "tabela_tts_r = serie_tweets3.value_counts()\r\n",
    "\r\n",
    "mr_1 = mr['Treinamento'].to_string().lower()\r\n",
    "mr2 = text_preproc(mr_1)\r\n",
    "mr3 = mr2.split()\r\n",
    "serie_tweets5 = pd.Series(mr3)\r\n",
    "tabela_tts_mr_relativa = serie_tweets5.value_counts(True)\r\n",
    "tabela_tts_mr = serie_tweets5.value_counts()\r\n",
    "\r\n",
    "geral = train['Treinamento'].to_string().lower()\r\n",
    "geral2 = text_preproc(geral)\r\n",
    "geral3 = geral2.split()\r\n",
    "serie_tweets_geral = pd.Series(geral3)\r\n",
    "tabela_tts_geral_relativa = serie_tweets_geral.value_counts(True)\r\n",
    "tabela_tts_geral = serie_tweets_geral.value_counts()"
   ],
   "outputs": [],
   "metadata": {
    "id": "kiLXHQdVX15Z"
   }
  },
  {
   "cell_type": "code",
   "execution_count": 9,
   "source": [
    "#Essa célula cria a variável universal. Ela tem o valor da quantidade de todas as palavras presentes nos tweets.\r\n",
    "todos = [m_i_r2, ir2, n2, r_2, mr2]\r\n",
    "i = 0\r\n",
    "tabela_geral = ''\r\n",
    "while i < len(todos):\r\n",
    "    tabela_geral += todos[i]\r\n",
    "    i += 1\r\n",
    "\r\n",
    "i = 0\r\n",
    "universal = 0\r\n",
    "while i < len(todos):\r\n",
    "    universal += len(todos[i])\r\n",
    "    i += 1\r\n",
    "\r\n",
    "todas_palavras = tabela_geral.split()\r\n",
    "serie_geral = pd.Series(todas_palavras)\r\n",
    "\r\n",
    "tabela_geral_relativa = serie_geral.value_counts(True)\r\n"
   ],
   "outputs": [],
   "metadata": {
    "id": "ZOrSe_7OX15Z"
   }
  },
  {
   "cell_type": "code",
   "execution_count": 10,
   "source": [
    "#Aqui nõs pegamos um tweet aleatório para testar\r\n",
    "tt = test['Teste'].sample().to_string().lower()\r\n",
    "print(tt)\r\n",
    "\r\n",
    "tt10 = cleanup(tt)\r\n",
    "xa = re.sub(r'\\w*\\d+\\w*', '', tt10)\r\n",
    "xb = re.sub(\"@\\S+\", \" \", xa)\r\n",
    "xc = re.sub(\"https*\\S+\", \" \", xb)\r\n",
    "xd = limpa_txt(xc)\r\n",
    "print(xd)"
   ],
   "outputs": [
    {
     "output_type": "stream",
     "name": "stdout",
     "text": [
      "182    @b4kerstreetb0ys iphone 12!!!!!! to devendo horrores pra minha mãe por causa disso\n",
      " iphone to devendo horrores pra minha mãe por causa disso\n"
     ]
    }
   ],
   "metadata": {}
  },
  {
   "cell_type": "markdown",
   "source": [
    "___\n",
    "### Verificando a performance do Classificador\n",
    "\n",
    "Agora você deve testar o seu classificador com a base de Testes."
   ],
   "metadata": {
    "id": "c8gg4NdtX15Z"
   }
  },
  {
   "cell_type": "code",
   "execution_count": 11,
   "source": [
    "frase_cortada = xd.split()\r\n",
    "\r\n",
    "#print(tabela_tts_mir_relativa['exibida'])\r\n",
    "print(frase_cortada)"
   ],
   "outputs": [
    {
     "output_type": "stream",
     "name": "stdout",
     "text": [
      "['iphone', 'to', 'devendo', 'horrores', 'pra', 'minha', 'mãe', 'por', 'causa', 'disso']\n"
     ]
    }
   ],
   "metadata": {}
  },
  {
   "cell_type": "code",
   "execution_count": 12,
   "source": [
    "prob0 = len(m_i_r2)/universal\r\n",
    "prob1 = len(ir2)/universal\r\n",
    "prob2 = len(n2)/universal\r\n",
    "prob3 = len(r_2)/universal\r\n",
    "prob4 = len(mr2)/universal\r\n",
    "print(prob0,prob1,prob2,prob3,prob4)"
   ],
   "outputs": [
    {
     "output_type": "stream",
     "name": "stdout",
     "text": [
      "0.3967617750035646 0.23169785016080227 0.1340282948622487 0.10692162671694048 0.13059045325644397\n"
     ]
    }
   ],
   "metadata": {}
  },
  {
   "cell_type": "code",
   "execution_count": 13,
   "source": [
    "print(classifica(frase_cortada))"
   ],
   "outputs": [
    {
     "output_type": "stream",
     "name": "stdout",
     "text": [
      "1\n"
     ]
    }
   ],
   "metadata": {}
  },
  {
   "cell_type": "code",
   "execution_count": 14,
   "source": [
    "#Aqui nós passamos a testar com todos os elementos da tabela test. Após isso começamos a cruzar os dados.\r\n",
    "certo = 0\r\n",
    "numer = []\r\n",
    "for index, row in test.iterrows():\r\n",
    "    r = classifica(text_preproc(row['Teste']).split())\r\n",
    "    if r == row['Classificação']:\r\n",
    "        certo += 1\r\n",
    "    numer.append(r)\r\n",
    "print(certo/len(test))\r\n"
   ],
   "outputs": [
    {
     "output_type": "stream",
     "name": "stdout",
     "text": [
      "0.4730077120822622\n"
     ]
    }
   ],
   "metadata": {}
  },
  {
   "cell_type": "markdown",
   "source": [
    "___\n",
    "### Concluindo"
   ],
   "metadata": {
    "id": "uy1PtkOjX15a"
   }
  },
  {
   "cell_type": "markdown",
   "source": [
    "Esse classificador Naive Bayes tem acurácia de aproximadamente 50%. Para ter um melhor desempenho acreditamos que uma base de dados maior é crucial, uma vez que a atual tem apenas 1323 tweets.\n",
    "Como está ainda em desenvolvimento, se usássemos esse classificador para gerar novos testes, os resultados seriam muito pouco confiáveis, causando mais trabalho humano para conferir os erros do programa."
   ],
   "metadata": {
    "id": "1O3RDIVHX15a"
   }
  },
  {
   "cell_type": "code",
   "execution_count": 22,
   "source": [
    "#pd.crosstab\r\n",
    "cross = test\r\n",
    "cross['Classificador'] = numer\r\n",
    "pd.crosstab(cross.Classificador,cross.Classificação)"
   ],
   "outputs": [
    {
     "output_type": "execute_result",
     "data": {
      "text/html": [
       "<div>\n",
       "<style scoped>\n",
       "    .dataframe tbody tr th:only-of-type {\n",
       "        vertical-align: middle;\n",
       "    }\n",
       "\n",
       "    .dataframe tbody tr th {\n",
       "        vertical-align: top;\n",
       "    }\n",
       "\n",
       "    .dataframe thead th {\n",
       "        text-align: right;\n",
       "    }\n",
       "</style>\n",
       "<table border=\"1\" class=\"dataframe\">\n",
       "  <thead>\n",
       "    <tr style=\"text-align: right;\">\n",
       "      <th>Classificação</th>\n",
       "      <th>0.0</th>\n",
       "      <th>1.0</th>\n",
       "      <th>2.0</th>\n",
       "      <th>3.0</th>\n",
       "      <th>4.0</th>\n",
       "    </tr>\n",
       "    <tr>\n",
       "      <th>Classificador</th>\n",
       "      <th></th>\n",
       "      <th></th>\n",
       "      <th></th>\n",
       "      <th></th>\n",
       "      <th></th>\n",
       "    </tr>\n",
       "  </thead>\n",
       "  <tbody>\n",
       "    <tr>\n",
       "      <th>0</th>\n",
       "      <td>149</td>\n",
       "      <td>29</td>\n",
       "      <td>18</td>\n",
       "      <td>10</td>\n",
       "      <td>7</td>\n",
       "    </tr>\n",
       "    <tr>\n",
       "      <th>1</th>\n",
       "      <td>56</td>\n",
       "      <td>27</td>\n",
       "      <td>8</td>\n",
       "      <td>13</td>\n",
       "      <td>7</td>\n",
       "    </tr>\n",
       "    <tr>\n",
       "      <th>2</th>\n",
       "      <td>13</td>\n",
       "      <td>6</td>\n",
       "      <td>4</td>\n",
       "      <td>1</td>\n",
       "      <td>1</td>\n",
       "    </tr>\n",
       "    <tr>\n",
       "      <th>3</th>\n",
       "      <td>7</td>\n",
       "      <td>3</td>\n",
       "      <td>1</td>\n",
       "      <td>3</td>\n",
       "      <td>0</td>\n",
       "    </tr>\n",
       "    <tr>\n",
       "      <th>4</th>\n",
       "      <td>13</td>\n",
       "      <td>3</td>\n",
       "      <td>2</td>\n",
       "      <td>6</td>\n",
       "      <td>1</td>\n",
       "    </tr>\n",
       "  </tbody>\n",
       "</table>\n",
       "</div>"
      ],
      "text/plain": [
       "Classificação  0.0  1.0  2.0  3.0  4.0\n",
       "Classificador                         \n",
       "0              149   29   18   10    7\n",
       "1               56   27    8   13    7\n",
       "2               13    6    4    1    1\n",
       "3                7    3    1    3    0\n",
       "4               13    3    2    6    1"
      ]
     },
     "metadata": {},
     "execution_count": 22
    }
   ],
   "metadata": {
    "id": "ET176hzMX15a"
   }
  },
  {
   "cell_type": "code",
   "execution_count": 25,
   "source": [
    "#Aqui tem um dataframe que mostra a classificação manual x classificação do programa\r\n",
    "cross"
   ],
   "outputs": [
    {
     "output_type": "execute_result",
     "data": {
      "text/html": [
       "<div>\n",
       "<style scoped>\n",
       "    .dataframe tbody tr th:only-of-type {\n",
       "        vertical-align: middle;\n",
       "    }\n",
       "\n",
       "    .dataframe tbody tr th {\n",
       "        vertical-align: top;\n",
       "    }\n",
       "\n",
       "    .dataframe thead th {\n",
       "        text-align: right;\n",
       "    }\n",
       "</style>\n",
       "<table border=\"1\" class=\"dataframe\">\n",
       "  <thead>\n",
       "    <tr style=\"text-align: right;\">\n",
       "      <th></th>\n",
       "      <th>Teste</th>\n",
       "      <th>Classificação</th>\n",
       "      <th>Classificador</th>\n",
       "    </tr>\n",
       "  </thead>\n",
       "  <tbody>\n",
       "    <tr>\n",
       "      <th>0</th>\n",
       "      <td>queria lançar o iphone 12 mas é mto dinheiro numa coisa só, o certo é pegar o 11 que ai já da pra pegar agr</td>\n",
       "      <td>4.0</td>\n",
       "      <td>1</td>\n",
       "    </tr>\n",
       "    <tr>\n",
       "      <th>1</th>\n",
       "      <td>ganhei um iphone 12 pro max e o apple watch de presente 😍😍😍😍😍😍😍😍😍😍😍😍</td>\n",
       "      <td>0.0</td>\n",
       "      <td>0</td>\n",
       "    </tr>\n",
       "    <tr>\n",
       "      <th>2</th>\n",
       "      <td>@forsjin iphone? meu namorado pagou 1k no 12 fiquei em choque vius</td>\n",
       "      <td>1.0</td>\n",
       "      <td>1</td>\n",
       "    </tr>\n",
       "    <tr>\n",
       "      <th>3</th>\n",
       "      <td>tem uma criança que tá do meu lado que tem um iphone x e a mãe dele tem um 12 pro max. tô indignado com meu j7 todo quebrado</td>\n",
       "      <td>1.0</td>\n",
       "      <td>0</td>\n",
       "    </tr>\n",
       "    <tr>\n",
       "      <th>4</th>\n",
       "      <td>pensando que é tão besteira pra mim trocar meu iphone 11 pro 12 no natal</td>\n",
       "      <td>1.0</td>\n",
       "      <td>0</td>\n",
       "    </tr>\n",
       "    <tr>\n",
       "      <th>...</th>\n",
       "      <td>...</td>\n",
       "      <td>...</td>\n",
       "      <td>...</td>\n",
       "    </tr>\n",
       "    <tr>\n",
       "      <th>384</th>\n",
       "      <td>devo vender toda minha coleção pra comprar um iphone 12 pro max 512gb?</td>\n",
       "      <td>2.0</td>\n",
       "      <td>0</td>\n",
       "    </tr>\n",
       "    <tr>\n",
       "      <th>385</th>\n",
       "      <td>eu preciso de um iphone 12 😪</td>\n",
       "      <td>0.0</td>\n",
       "      <td>1</td>\n",
       "    </tr>\n",
       "    <tr>\n",
       "      <th>386</th>\n",
       "      <td>tem um cara falando q vai me dar um iphone 12 pro max 😢😢😢😢😢😢😢 isso tem q ser vdd</td>\n",
       "      <td>2.0</td>\n",
       "      <td>0</td>\n",
       "    </tr>\n",
       "    <tr>\n",
       "      <th>387</th>\n",
       "      <td>@kiki_djavando era só um iphone 12</td>\n",
       "      <td>0.0</td>\n",
       "      <td>0</td>\n",
       "    </tr>\n",
       "    <tr>\n",
       "      <th>388</th>\n",
       "      <td>iphone 12 pro max 128gb  novo lacrado 📱🍎\\n\\n1 ano de garantia apple ✅\\n\\nr$ 7.499,00 128gb a vista já com desconto! 💸\\n\\nproduto importado direto dos estados unidos 🇺🇸 \\n\\nou parcelamos até 12x  no cartão de crédito 💳 \\n\\naceitamos pix, ted, paypal 💸\\n\\nentregas para todo brasil 📦🇧🇷 https://t.co/sxa80ecfgw</td>\n",
       "      <td>0.0</td>\n",
       "      <td>3</td>\n",
       "    </tr>\n",
       "  </tbody>\n",
       "</table>\n",
       "<p>389 rows × 3 columns</p>\n",
       "</div>"
      ],
      "text/plain": [
       "                                                                                                                                                                                                                                                                                                                   Teste  \\\n",
       "0                                                                                                                                                                                                            queria lançar o iphone 12 mas é mto dinheiro numa coisa só, o certo é pegar o 11 que ai já da pra pegar agr   \n",
       "1                                                                                                                                                                                                                                                   ganhei um iphone 12 pro max e o apple watch de presente 😍😍😍😍😍😍😍😍😍😍😍😍   \n",
       "2                                                                                                                                                                                                                                                     @forsjin iphone? meu namorado pagou 1k no 12 fiquei em choque vius   \n",
       "3                                                                                                                                                                                           tem uma criança que tá do meu lado que tem um iphone x e a mãe dele tem um 12 pro max. tô indignado com meu j7 todo quebrado   \n",
       "4                                                                                                                                                                                                                                               pensando que é tão besteira pra mim trocar meu iphone 11 pro 12 no natal   \n",
       "..                                                                                                                                                                                                                                                                                                                   ...   \n",
       "384                                                                                                                                                                                                                                               devo vender toda minha coleção pra comprar um iphone 12 pro max 512gb?   \n",
       "385                                                                                                                                                                                                                                                                                         eu preciso de um iphone 12 😪   \n",
       "386                                                                                                                                                                                                                                     tem um cara falando q vai me dar um iphone 12 pro max 😢😢😢😢😢😢😢 isso tem q ser vdd   \n",
       "387                                                                                                                                                                                                                                                                                   @kiki_djavando era só um iphone 12   \n",
       "388  iphone 12 pro max 128gb  novo lacrado 📱🍎\\n\\n1 ano de garantia apple ✅\\n\\nr$ 7.499,00 128gb a vista já com desconto! 💸\\n\\nproduto importado direto dos estados unidos 🇺🇸 \\n\\nou parcelamos até 12x  no cartão de crédito 💳 \\n\\naceitamos pix, ted, paypal 💸\\n\\nentregas para todo brasil 📦🇧🇷 https://t.co/sxa80ecfgw   \n",
       "\n",
       "     Classificação  Classificador  \n",
       "0              4.0              1  \n",
       "1              0.0              0  \n",
       "2              1.0              1  \n",
       "3              1.0              0  \n",
       "4              1.0              0  \n",
       "..             ...            ...  \n",
       "384            2.0              0  \n",
       "385            0.0              1  \n",
       "386            2.0              0  \n",
       "387            0.0              0  \n",
       "388            0.0              3  \n",
       "\n",
       "[389 rows x 3 columns]"
      ]
     },
     "metadata": {},
     "execution_count": 25
    }
   ],
   "metadata": {}
  },
  {
   "cell_type": "markdown",
   "source": [
    "___\n",
    "### Qualidade do Classificador a partir de novas separações dos tweets entre Treinamento e Teste\n",
    "\n",
    "Caso for fazer esse item do Projeto"
   ],
   "metadata": {
    "id": "TKGNd3ExX15b"
   }
  },
  {
   "cell_type": "code",
   "execution_count": 17,
   "source": [
    "#sk.learn"
   ],
   "outputs": [],
   "metadata": {
    "id": "I22gjLB9X15b"
   }
  },
  {
   "cell_type": "code",
   "execution_count": null,
   "source": [],
   "outputs": [],
   "metadata": {
    "id": "r2OyODHLX15b"
   }
  },
  {
   "cell_type": "code",
   "execution_count": null,
   "source": [],
   "outputs": [],
   "metadata": {
    "id": "ERXPVeWNX15b"
   }
  },
  {
   "cell_type": "markdown",
   "source": [
    "___\n",
    "## Aperfeiçoamento:\n",
    "\n",
    "Trabalhos que conseguirem pelo menos conceito B vão evoluir em conceito dependendo da quantidade de itens avançados:\n",
    "\n",
    "* IMPLEMENTOU outras limpezas e transformações que não afetem a qualidade da informação contida nos tweets. Ex: stemming, lemmatization, stopwords\n",
    "* CORRIGIU separação de espaços entre palavras e emojis ou entre emojis e emojis\n",
    "* CRIOU categorias intermediárias de relevância baseadas na probabilidade: ex.: muito relevante, relevante, neutro, irrelevante, muito irrelevante. Pelo menos quatro categorias, com adição de mais tweets na base, conforme enunciado. (OBRIGATÓRIO PARA TRIOS, sem contar como item avançado)\n",
    "* EXPLICOU porquê não pode usar o próprio classificador para gerar mais amostras de treinamento\n",
    "* PROPÔS diferentes cenários para Naïve Bayes fora do contexto do projeto\n",
    "* SUGERIU e EXPLICOU melhorias reais com indicações concretas de como implementar (indicar como fazer e indicar material de pesquisa)\n",
    "* FEZ o item 6. Qualidade do Classificador a partir de novas separações dos tweets entre Treinamento e Teste descrito no enunciado do projeto (OBRIGATÓRIO para conceitos A ou A+)"
   ],
   "metadata": {
    "id": "LeuFLsOBX15b"
   }
  },
  {
   "cell_type": "markdown",
   "source": [
    "___\n",
    "## Referências"
   ],
   "metadata": {
    "id": "8aPSt83FX15c"
   }
  },
  {
   "cell_type": "markdown",
   "source": [
    "[Naive Bayes and Text Classification](https://arxiv.org/pdf/1410.5329.pdf)  **Mais completo**\n",
    "\n",
    "[A practical explanation of a Naive Bayes Classifier](https://monkeylearn.com/blog/practical-explanation-naive-bayes-classifier/) **Mais simples**"
   ],
   "metadata": {
    "id": "EzwdbIpaX15c"
   }
  },
  {
   "cell_type": "markdown",
   "source": [
    "[Cleaning Text Data with Python](https://towardsdatascience.com/cleaning-text-data-with-python-b69b47b97b76) **Para formatação do texto**"
   ],
   "metadata": {
    "id": "W9sOI_4wX15c"
   }
  }
 ],
 "metadata": {
  "colab": {
   "collapsed_sections": [],
   "name": "Cópia de Projeto1_Layout_Classificador.ipynb",
   "provenance": []
  },
  "kernelspec": {
   "display_name": "Python 3",
   "language": "python",
   "name": "python3"
  },
  "language_info": {
   "codemirror_mode": {
    "name": "ipython",
    "version": 3
   },
   "file_extension": ".py",
   "mimetype": "text/x-python",
   "name": "python",
   "nbconvert_exporter": "python",
   "pygments_lexer": "ipython3",
   "version": "3.8.5"
  }
 },
 "nbformat": 4,
 "nbformat_minor": 1
}