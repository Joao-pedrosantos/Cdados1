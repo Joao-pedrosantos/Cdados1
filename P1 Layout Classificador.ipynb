{
 "cells": [
  {
   "cell_type": "markdown",
   "source": [
    "# Projeto 1 - Ciência dos Dados"
   ],
   "metadata": {
    "id": "IiUqx-miX15P"
   }
  },
  {
   "cell_type": "markdown",
   "source": [
    "Nome: Gabriela Kimi Katsurayama\n",
    "\n",
    "Nome: João Pedro Rodrigues dos Santos\n",
    "\n",
    "Nome: Luiza Ferreira Ehrenberger"
   ],
   "metadata": {
    "id": "GO837r2VX15T"
   }
  },
  {
   "cell_type": "markdown",
   "source": [
    "Atenção: Serão permitidos grupos de três pessoas, mas com uma rubrica mais exigente. Grupos deste tamanho precisarão fazer um questionário de avaliação de trabalho em equipe"
   ],
   "metadata": {
    "id": "P17y8cIrX15T"
   }
  },
  {
   "cell_type": "markdown",
   "source": [
    "___\n",
    "Carregando algumas bibliotecas:"
   ],
   "metadata": {
    "id": "BYOA26a0X15U"
   }
  },
  {
   "cell_type": "code",
   "execution_count": 1,
   "source": [
    "%matplotlib inline\r\n",
    "import pandas as pd\r\n",
    "import matplotlib.pyplot as plt\r\n",
    "import numpy as np\r\n",
    "import os\r\n",
    "import re \r\n",
    "import nltk\r\n",
    "import string\r\n",
    "from nltk.corpus import stopwords\r\n",
    "pd.set_option(\"display.max_colwidth\", None)\r\n",
    "\r\n",
    "def cleanup(text):\r\n",
    "    \"\"\"\r\n",
    "        Função de limpeza muito simples que troca alguns sinais básicos por espaços\r\n",
    "    \"\"\"\r\n",
    "    #import string\r\n",
    "    punctuation = '[!-.:?;]' # Note que os sinais [] são delimitadores de um conjunto.\r\n",
    "    pattern = re.compile(punctuation)\r\n",
    "    text_subbed = re.sub(pattern, '', text)\r\n",
    "    return text_subbed"
   ],
   "outputs": [],
   "metadata": {
    "id": "SerHa6fpX15U"
   }
  },
  {
   "cell_type": "code",
   "execution_count": 2,
   "source": [
    "print('Esperamos trabalhar no diretório')\r\n",
    "print(os.getcwd())"
   ],
   "outputs": [
    {
     "output_type": "stream",
     "name": "stdout",
     "text": [
      "Esperamos trabalhar no diretório\n",
      "C:\\Users\\jpthe\\Ciencia de dados\\CD21-2\\P1 git\\Cdados1\n"
     ]
    }
   ],
   "metadata": {
    "id": "8s2qx-D_X15V",
    "outputId": "a82db708-bf34-49f1-f219-bd62376225e6",
    "scrolled": false
   }
  },
  {
   "cell_type": "markdown",
   "source": [
    "Carregando a base de dados com os tweets classificados como relevantes e não relevantes:"
   ],
   "metadata": {
    "id": "iHIKP3mFX15W"
   }
  },
  {
   "cell_type": "code",
   "execution_count": 3,
   "source": [
    "filename = 'Iphone 12 novo.xlsx'"
   ],
   "outputs": [],
   "metadata": {
    "id": "emMrDcjEX15X"
   }
  },
  {
   "cell_type": "code",
   "execution_count": 4,
   "source": [
    "train = pd.read_excel(filename)\r\n",
    "train.head(5)"
   ],
   "outputs": [
    {
     "output_type": "execute_result",
     "data": {
      "text/html": [
       "<div>\n",
       "<style scoped>\n",
       "    .dataframe tbody tr th:only-of-type {\n",
       "        vertical-align: middle;\n",
       "    }\n",
       "\n",
       "    .dataframe tbody tr th {\n",
       "        vertical-align: top;\n",
       "    }\n",
       "\n",
       "    .dataframe thead th {\n",
       "        text-align: right;\n",
       "    }\n",
       "</style>\n",
       "<table border=\"1\" class=\"dataframe\">\n",
       "  <thead>\n",
       "    <tr style=\"text-align: right;\">\n",
       "      <th></th>\n",
       "      <th>Treinamento</th>\n",
       "      <th>Classificação</th>\n",
       "    </tr>\n",
       "  </thead>\n",
       "  <tbody>\n",
       "    <tr>\n",
       "      <th>0</th>\n",
       "      <td>eu do nada me pego rindo do professor falando de burguesia e tirando um iphone 12 pro max do bolso kkkkk</td>\n",
       "      <td>0</td>\n",
       "    </tr>\n",
       "    <tr>\n",
       "      <th>1</th>\n",
       "      <td>trocarias alguém da escola,por um iphone 12?\\n-waweeee eliane.😭</td>\n",
       "      <td>0</td>\n",
       "    </tr>\n",
       "    <tr>\n",
       "      <th>2</th>\n",
       "      <td>sobre o iphone 6s “não ter mais whatsapp”. é td mentira, a maioria ta no ios 12 pra cima, então deixem de alarme ate pq so vai sair se vc tiver no ios 9</td>\n",
       "      <td>3</td>\n",
       "    </tr>\n",
       "    <tr>\n",
       "      <th>3</th>\n",
       "      <td>ios 15 ja meu iphone n guenta nem o 12 direito https://t.co/mcshdy359r</td>\n",
       "      <td>4</td>\n",
       "    </tr>\n",
       "    <tr>\n",
       "      <th>4</th>\n",
       "      <td>nosso que pechincha 👀🙄uau 🙃\\nhttps://t.co/jyhyn71jch</td>\n",
       "      <td>0</td>\n",
       "    </tr>\n",
       "  </tbody>\n",
       "</table>\n",
       "</div>"
      ],
      "text/plain": [
       "                                                                                                                                                Treinamento  \\\n",
       "0                                                  eu do nada me pego rindo do professor falando de burguesia e tirando um iphone 12 pro max do bolso kkkkk   \n",
       "1                                                                                           trocarias alguém da escola,por um iphone 12?\\n-waweeee eliane.😭   \n",
       "2  sobre o iphone 6s “não ter mais whatsapp”. é td mentira, a maioria ta no ios 12 pra cima, então deixem de alarme ate pq so vai sair se vc tiver no ios 9   \n",
       "3                                                                                    ios 15 ja meu iphone n guenta nem o 12 direito https://t.co/mcshdy359r   \n",
       "4                                                                                                      nosso que pechincha 👀🙄uau 🙃\\nhttps://t.co/jyhyn71jch   \n",
       "\n",
       "   Classificação  \n",
       "0              0  \n",
       "1              0  \n",
       "2              3  \n",
       "3              4  \n",
       "4              0  "
      ]
     },
     "metadata": {},
     "execution_count": 4
    }
   ],
   "metadata": {
    "id": "J2KPDF_HX15X",
    "outputId": "802bbe52-3b48-442a-800c-7593a5555b6c"
   }
  },
  {
   "cell_type": "code",
   "execution_count": 5,
   "source": [
    "test = pd.read_excel(filename, sheet_name = 'Teste')\r\n",
    "test.head(5)\r\n",
    "# with open(\"Iphone 12 novo.xlsx\", \"r\", encoding=\"utf-8-sig\") as arquivo_texto:\r\n",
    "#     test = arquivo_texto.read()"
   ],
   "outputs": [
    {
     "output_type": "execute_result",
     "data": {
      "text/html": [
       "<div>\n",
       "<style scoped>\n",
       "    .dataframe tbody tr th:only-of-type {\n",
       "        vertical-align: middle;\n",
       "    }\n",
       "\n",
       "    .dataframe tbody tr th {\n",
       "        vertical-align: top;\n",
       "    }\n",
       "\n",
       "    .dataframe thead th {\n",
       "        text-align: right;\n",
       "    }\n",
       "</style>\n",
       "<table border=\"1\" class=\"dataframe\">\n",
       "  <thead>\n",
       "    <tr style=\"text-align: right;\">\n",
       "      <th></th>\n",
       "      <th>Teste</th>\n",
       "      <th>Classificação</th>\n",
       "    </tr>\n",
       "  </thead>\n",
       "  <tbody>\n",
       "    <tr>\n",
       "      <th>0</th>\n",
       "      <td>queria lançar o iphone 12 mas é mto dinheiro numa coisa só, o certo é pegar o 11 que ai já da pra pegar agr</td>\n",
       "      <td>4.0</td>\n",
       "    </tr>\n",
       "    <tr>\n",
       "      <th>1</th>\n",
       "      <td>ganhei um iphone 12 pro max e o apple watch de presente 😍😍😍😍😍😍😍😍😍😍😍😍</td>\n",
       "      <td>0.0</td>\n",
       "    </tr>\n",
       "    <tr>\n",
       "      <th>2</th>\n",
       "      <td>@forsjin iphone? meu namorado pagou 1k no 12 fiquei em choque vius</td>\n",
       "      <td>1.0</td>\n",
       "    </tr>\n",
       "    <tr>\n",
       "      <th>3</th>\n",
       "      <td>tem uma criança que tá do meu lado que tem um iphone x e a mãe dele tem um 12 pro max. tô indignado com meu j7 todo quebrado</td>\n",
       "      <td>1.0</td>\n",
       "    </tr>\n",
       "    <tr>\n",
       "      <th>4</th>\n",
       "      <td>pensando que é tão besteira pra mim trocar meu iphone 11 pro 12 no natal</td>\n",
       "      <td>1.0</td>\n",
       "    </tr>\n",
       "  </tbody>\n",
       "</table>\n",
       "</div>"
      ],
      "text/plain": [
       "                                                                                                                          Teste  \\\n",
       "0                   queria lançar o iphone 12 mas é mto dinheiro numa coisa só, o certo é pegar o 11 que ai já da pra pegar agr   \n",
       "1                                                          ganhei um iphone 12 pro max e o apple watch de presente 😍😍😍😍😍😍😍😍😍😍😍😍   \n",
       "2                                                            @forsjin iphone? meu namorado pagou 1k no 12 fiquei em choque vius   \n",
       "3  tem uma criança que tá do meu lado que tem um iphone x e a mãe dele tem um 12 pro max. tô indignado com meu j7 todo quebrado   \n",
       "4                                                      pensando que é tão besteira pra mim trocar meu iphone 11 pro 12 no natal   \n",
       "\n",
       "   Classificação  \n",
       "0            4.0  \n",
       "1            0.0  \n",
       "2            1.0  \n",
       "3            1.0  \n",
       "4            1.0  "
      ]
     },
     "metadata": {},
     "execution_count": 5
    }
   ],
   "metadata": {
    "id": "vzF_vTLvX15X",
    "outputId": "f8f8f729-9449-49b4-d8fd-e413124f5b42"
   }
  },
  {
   "cell_type": "markdown",
   "source": [
    "___\n",
    "## Classificador automático de sentimento\n"
   ],
   "metadata": {
    "id": "NGn5EDWNX15Y"
   }
  },
  {
   "cell_type": "markdown",
   "source": [
    "Faça aqui uma descrição do seu produto e o que considerou como relevante ou não relevante na classificação dos tweets.\r\n",
    "\r\n",
    "Para realizar o projeto, nós escolhemos um produto muito comentado e famoso, o Iphone. Pensando no enunciado da rúbrica, acabamos preferindo criar uma planilha com 1.252 tweets (treinamento + teste) e 5 classificações, com 0 sendo muito irrelevante e 5 muito relevante. Para filtrá-los optamos por colocar comentários negativos e pertinentes como 5 (Muito Relevantes) e comentários mais positivos como neutro ou irrelevante."
   ],
   "metadata": {
    "id": "p4_79at3X15Y"
   }
  },
  {
   "cell_type": "markdown",
   "source": [
    "___\n",
    "### Montando um Classificador Naive-Bayes\n",
    "\n",
    "Considerando apenas as mensagens da planilha Treinamento, ensine  seu classificador."
   ],
   "metadata": {
    "id": "qYvDywsMX15Y"
   }
  },
  {
   "cell_type": "code",
   "execution_count": 6,
   "source": [
    "from typing import Awaitable\r\n",
    "\r\n",
    "\r\n",
    "def limpa_txt(txt):\r\n",
    "  carac = ['\\n', ':', '\"', '`', '!', '?', ';','(',')', '[', ']', '%', '&', ',', '.', '@', '/']\r\n",
    "  for i in txt:\r\n",
    "    if i in carac:\r\n",
    "        testador = txt.find(i)\r\n",
    "        txt = txt[:testador] + txt[testador+1:]\r\n",
    "  vn = arruma_esp(txt)\r\n",
    "  return vn\r\n",
    "\r\n",
    "def arruma_esp(txt):\r\n",
    "  i = 0\r\n",
    "  frase = ''\r\n",
    "  aa = 0\r\n",
    "  while i < len(txt)+1:\r\n",
    "    if i >= 1:\r\n",
    "        if i >= len(txt):\r\n",
    "            frase += txt[i-1]\r\n",
    "            return frase\r\n",
    "        else:     \r\n",
    "            if txt[i] == ' ' and txt[i-1] == ' ':\r\n",
    "                aa += 1\r\n",
    "            else:     \r\n",
    "                frase += txt[i-1]\r\n",
    "    i += 1\r\n"
   ],
   "outputs": [],
   "metadata": {
    "id": "whxOWcjdX15Z"
   }
  },
  {
   "cell_type": "code",
   "execution_count": 7,
   "source": [
    "stop_words = stopwords.words(\"portuguese\")\r\n",
    "#wordnet = WordNetLemmatizer()\r\n",
    "def text_preproc(x):\r\n",
    "  #x = x.encode('ascii', 'ignore').decode()\r\n",
    "  #a = re.sub(r'https*\\S+', ' ', x)\r\n",
    "  #b = re.sub(r'\\s{2,}', ' ', a)\r\n",
    "  c = re.sub(r'@\\S+', ' ', x)\r\n",
    "  d = re.sub(r'#\\S+', ' ', c)\r\n",
    "  e = re.sub(r'\\'\\w+', '', d)\r\n",
    "  f = re.sub('[%s]' % re.escape(string.punctuation), ' ', e)\r\n",
    "  #g = re.sub(r'\\w*\\d+\\w*', '', f)\r\n",
    "  h = f.strip('\\n')\r\n",
    "  return h\r\n"
   ],
   "outputs": [],
   "metadata": {}
  },
  {
   "cell_type": "code",
   "execution_count": 8,
   "source": [
    "# qtd = train.groupby('Classificação').size().div(len(train))\r\n",
    "# qtd\r\n",
    "\r\n",
    "filtra_linhas_0 = train['Classificação'] == 0\r\n",
    "mir = train.loc[filtra_linhas_0, :]\r\n",
    "\r\n",
    "filtra_linhas_1 = train['Classificação'] == 1\r\n",
    "ir = train.loc[filtra_linhas_1, :]\r\n",
    "\r\n",
    "filtra_linhas_2 = train['Classificação'] == 2\r\n",
    "n = train.loc[filtra_linhas_2, :]\r\n",
    "\r\n",
    "filtra_linhas_3 = train['Classificação'] == 3\r\n",
    "r = train.loc[filtra_linhas_3, :]\r\n",
    "\r\n",
    "filtra_linhas_4 = train['Classificação'] == 4\r\n",
    "mr = train.loc[filtra_linhas_4, :]\r\n",
    "\r\n",
    "\r\n",
    "#/----------------------------------------------------/\r\n",
    "\r\n",
    "m_i_r = mir['Treinamento'].to_string().lower()\r\n",
    "m_i_r2 = limpa_txt(m_i_r)\r\n",
    "m_i_r3 = m_i_r2.split()\r\n",
    "serie_tweets = pd.Series(m_i_r3)\r\n",
    "tabela_tts_mir_relativa = serie_tweets.value_counts(True)\r\n",
    "tabela_tts_mir = serie_tweets.value_counts()\r\n",
    "\r\n",
    "ir_1 = ir['Treinamento'].to_string().lower()\r\n",
    "ir2 = limpa_txt(ir_1)\r\n",
    "ir3 = ir2.split()\r\n",
    "serie_tweets = pd.Series(ir3)\r\n",
    "tabela_tts_ir_relativa = serie_tweets.value_counts(True)\r\n",
    "tabela_tts_ir = serie_tweets.value_counts()\r\n",
    "\r\n",
    "n_1 = n['Treinamento'].to_string().lower()\r\n",
    "n2 = limpa_txt(n_1)\r\n",
    "n3 = n2.split()\r\n",
    "serie_tweets = pd.Series(n2)\r\n",
    "tabela_tts_n_relativa = serie_tweets.value_counts(True)\r\n",
    "tabela_tts_n = serie_tweets.value_counts()\r\n",
    "\r\n",
    "# aaa = ''\r\n",
    "# aaaa = ''\r\n",
    "# for x in m_i:\r\n",
    "#     aaa += text_preproc(x)\r\n",
    "# for x in aaa:\r\n",
    "#     x = re.sub(r'https*\\S+', ' ', x)\r\n",
    "#     x = re.sub(r'\\s{2,}', ' ', x)\r\n",
    "#     aaaa += x\r\n",
    "\r\n",
    "r_1 = r['Treinamento'].to_string().lower()\r\n",
    "r_2 = limpa_txt(r_1)\r\n",
    "r_3 = r_2.split()\r\n",
    "serie_tweets = pd.Series(r_3)\r\n",
    "tabela_tts_r_relativa = serie_tweets.value_counts(True)\r\n",
    "tabela_tts_r = serie_tweets.value_counts()\r\n",
    "#m_i2_5 = ''\r\n",
    "# for x in m_i:\r\n",
    "#     x = re.sub(r'(https|http)?:\\/\\/(\\w|\\.|\\/|\\?|\\=|\\&|\\%)*\\b', '', x, flags=re.MULTILINE)\r\n",
    "#     #x = re.sub(\"https*\\S+\", \" \", x)\r\n",
    "#     x = re.sub(r'\\w*\\d+\\w*', '', x)\r\n",
    "#     teste_12 = x.strip('\\n')\r\n",
    "#     m_i2_5 += teste_12\r\n",
    "\r\n",
    "mr_1 = mr['Treinamento'].to_string().lower()\r\n",
    "mr2 = limpa_txt(mr_1)\r\n",
    "mr3 = mr2.split()\r\n",
    "serie_tweets = pd.Series(mr3)\r\n",
    "tabela_tts_mr_relativa = serie_tweets.value_counts(True)\r\n",
    "tabela_tts_mr = serie_tweets.value_counts()\r\n",
    "\r\n",
    "\r\n",
    "\r\n",
    "#print(len(m_i3))\r\n",
    "# aaaa\r\n",
    "# #m_i2_5\r\n",
    "\r\n",
    "\r\n"
   ],
   "outputs": [],
   "metadata": {
    "id": "kiLXHQdVX15Z"
   }
  },
  {
   "cell_type": "code",
   "execution_count": 9,
   "source": [
    "x = 'ios  ja meu iphone n guenta nem o  direito https://t.co/mcshdyr'\r\n",
    "\r\n",
    "x = re.sub(r'https*\\S+', ' ', x)\r\n",
    "x = re.sub(r'\\s{2,}', ' ', x)\r\n",
    "x"
   ],
   "outputs": [
    {
     "output_type": "execute_result",
     "data": {
      "text/plain": [
       "'ios ja meu iphone n guenta nem o direito '"
      ]
     },
     "metadata": {},
     "execution_count": 9
    }
   ],
   "metadata": {}
  },
  {
   "cell_type": "code",
   "execution_count": 10,
   "source": [
    "# for i in m_i:\r\n",
    "#     i = re.sub(\"https*\\S+\", \" \", i)"
   ],
   "outputs": [],
   "metadata": {}
  },
  {
   "cell_type": "code",
   "execution_count": 11,
   "source": [
    "todos = [m_i_r2, ir2, n2, r_2, mr2]\r\n",
    "i = 0\r\n",
    "tabela_geral = ''\r\n",
    "while i < len(todos):\r\n",
    "    tabela_geral += todos[i]\r\n",
    "    i += 1\r\n",
    "i = 0\r\n",
    "teste3 = 0\r\n",
    "while i < len(todos):\r\n",
    "    teste3 += len(todos[i])\r\n",
    "    i += 1\r\n",
    "print(teste3)\r\n",
    "\r\n",
    "todas_palavras = tabela_geral.split()\r\n",
    "serie_geral = pd.Series(todas_palavras)\r\n",
    "\r\n",
    "tabela_geral_relativa = serie_geral.value_counts(True)\r\n",
    "#tabela_geral_relativa\r\n",
    "#print(len(todas_palavras))"
   ],
   "outputs": [
    {
     "output_type": "stream",
     "name": "stdout",
     "text": [
      "93310\n"
     ]
    }
   ],
   "metadata": {
    "id": "ZOrSe_7OX15Z"
   }
  },
  {
   "cell_type": "code",
   "execution_count": 12,
   "source": [
    "tt = test['Teste'].sample().to_string().lower()\r\n",
    "print(tt)\r\n",
    "\r\n",
    "tt10 = cleanup(tt)\r\n",
    "xa = re.sub(r'\\w*\\d+\\w*', '', tt10)\r\n",
    "xb = re.sub(\"@\\S+\", \" \", xa)\r\n",
    "xc = re.sub(\"https*\\S+\", \" \", xb)\r\n",
    "xd = limpa_txt(xc)\r\n",
    "print(xd)"
   ],
   "outputs": [
    {
     "output_type": "stream",
     "name": "stdout",
     "text": [
      "375    eu amo esses vídeos sobre iphone 13 do pessoal jurando q a apple finalmente vai diminuir aquele entalhe na tela aí qnd chega no lançamento n diminuem porra nenhuma, foi a msm coisa no 12 kk\n",
      " eu amo esses vídeos sobre iphone do pessoal jurando q a apple finalmente vai diminuir aquele entalhe na tela aí qnd chega no lançamento n diminuem porra nenhuma foi a msm coisa no kk\n"
     ]
    }
   ],
   "metadata": {}
  },
  {
   "cell_type": "markdown",
   "source": [
    "___\n",
    "### Verificando a performance do Classificador\n",
    "\n",
    "Agora você deve testar o seu classificador com a base de Testes."
   ],
   "metadata": {
    "id": "c8gg4NdtX15Z"
   }
  },
  {
   "cell_type": "code",
   "execution_count": 13,
   "source": [
    "frase_cortada = xd.split()\r\n",
    "\r\n",
    "#print(tabela_tts_mir_relativa['exibida'])\r\n",
    "print(frase_cortada)"
   ],
   "outputs": [
    {
     "output_type": "stream",
     "name": "stdout",
     "text": [
      "['eu', 'amo', 'esses', 'vídeos', 'sobre', 'iphone', 'do', 'pessoal', 'jurando', 'q', 'a', 'apple', 'finalmente', 'vai', 'diminuir', 'aquele', 'entalhe', 'na', 'tela', 'aí', 'qnd', 'chega', 'no', 'lançamento', 'n', 'diminuem', 'porra', 'nenhuma', 'foi', 'a', 'msm', 'coisa', 'no', 'kk']\n"
     ]
    }
   ],
   "metadata": {}
  },
  {
   "cell_type": "code",
   "execution_count": 14,
   "source": [
    "prob0 = len(m_i_r2)/teste3\r\n",
    "prob1 = len(ir2)/teste3\r\n",
    "prob2 = len(n2)/teste3\r\n",
    "prob3 = len(r_2)/teste3\r\n",
    "prob4 = len(mr2)/teste3\r\n",
    "print(prob0,prob1,prob2,prob3,prob4)"
   ],
   "outputs": [
    {
     "output_type": "stream",
     "name": "stdout",
     "text": [
      "0.6090236844925517 0.15689636694888007 0.09709570249705284 0.08648590719108348 0.0504983388704319\n"
     ]
    }
   ],
   "metadata": {
    "id": "qD5UVGyKX15a"
   }
  },
  {
   "cell_type": "code",
   "execution_count": 15,
   "source": [
    "#calcula a prob de estar la\r\n",
    "i = 0\r\n",
    "probFraseDado0 = 1\r\n",
    "probFraseDado1 = 1\r\n",
    "probFraseDado2 = 1\r\n",
    "probFraseDado3 = 1\r\n",
    "probFraseDado4 = 1\r\n",
    "\r\n",
    "\r\n",
    "while i < len(frase_cortada):\r\n",
    "    if frase_cortada[i] not in tabela_tts_mir:\r\n",
    "        P_palavra0 = 1\r\n",
    "    else:\r\n",
    "        P_palavra0 = tabela_tts_mir_relativa[frase_cortada[i]]\r\n",
    "    \r\n",
    "    if frase_cortada[i] not in tabela_tts_ir:\r\n",
    "        P_palavra1 = 1\r\n",
    "    else:\r\n",
    "        P_palavra1 = tabela_tts_ir_relativa[frase_cortada[i]]\r\n",
    "    \r\n",
    "    if frase_cortada[i] not in tabela_tts_n:\r\n",
    "        P_palavra2 = 1\r\n",
    "    else:\r\n",
    "        P_palavra2 = tabela_tts_n_relativa[frase_cortada[i]]\r\n",
    "    \r\n",
    "    if frase_cortada[i] not in tabela_tts_r:\r\n",
    "        P_palavra3 = 1\r\n",
    "    else:\r\n",
    "        P_palavra3 = tabela_tts_r_relativa[frase_cortada[i]]\r\n",
    "    \r\n",
    "    if frase_cortada[i] not in tabela_tts_mr:\r\n",
    "        P_palavra4 = 1\r\n",
    "    else:\r\n",
    "        P_palavra4 = tabela_tts_mr_relativa[frase_cortada[i]]\r\n",
    "        \r\n",
    "    probFraseDado0 *= P_palavra0\r\n",
    "    probFraseDado1 *= P_palavra1\r\n",
    "    probFraseDado2 *= P_palavra2\r\n",
    "    probFraseDado3 *= P_palavra3\r\n",
    "    probFraseDado4 *= P_palavra4\r\n",
    "    i += 1\r\n",
    "        "
   ],
   "outputs": [],
   "metadata": {
    "id": "r7R4HF44X15a"
   }
  },
  {
   "cell_type": "code",
   "execution_count": 16,
   "source": [
    "resp0 = probFraseDado0*prob0\r\n",
    "resp1 = probFraseDado1*prob1\r\n",
    "resp2 = probFraseDado2*prob2\r\n",
    "resp3 = probFraseDado3*prob3\r\n",
    "resp4 = probFraseDado4*prob4\r\n",
    "resps = []\r\n",
    "print(resp0,resp1,resp2,resp3,resp4)\r\n",
    "resps.append(resp0)\r\n",
    "resps.append(resp1)\r\n",
    "resps.append(resp2)\r\n",
    "resps.append(resp3)\r\n",
    "resps.append(resp4)\r\n",
    "\r\n",
    "\r\n",
    "if max(resps) == resp2:\r\n",
    "    print('Neutro')\r\n",
    "    resps.remove(resp2)\r\n",
    "    if max(resps) == resp0:\r\n",
    "        print('Muito irrelevante')\r\n",
    "    if max(resps) == resp1:\r\n",
    "        print('Irrelevante')\r\n",
    "    if max(resps) == resp3:\r\n",
    "        print('Relevante')\r\n",
    "    if max(resps) == resp4:\r\n",
    "        print('Muito Relevante')\r\n",
    "\r\n",
    "\r\n",
    "\r\n",
    "\r\n",
    "\r\n"
   ],
   "outputs": [
    {
     "output_type": "stream",
     "name": "stdout",
     "text": [
      "1.4683581448930667e-79 1.2526772042331323e-61 0.09709570249705284 2.65086515247137e-50 3.637296808550911e-42\n",
      "Neutro\n",
      "Muito Relevante\n"
     ]
    }
   ],
   "metadata": {
    "id": "qon7gwquX15a"
   }
  },
  {
   "cell_type": "markdown",
   "source": [
    "___\n",
    "### Concluindo"
   ],
   "metadata": {
    "id": "uy1PtkOjX15a"
   }
  },
  {
   "cell_type": "code",
   "execution_count": null,
   "source": [],
   "outputs": [],
   "metadata": {
    "id": "1O3RDIVHX15a"
   }
  },
  {
   "cell_type": "code",
   "execution_count": null,
   "source": [],
   "outputs": [],
   "metadata": {
    "id": "ET176hzMX15a"
   }
  },
  {
   "cell_type": "code",
   "execution_count": null,
   "source": [],
   "outputs": [],
   "metadata": {
    "id": "XkqeerwUX15b"
   }
  },
  {
   "cell_type": "markdown",
   "source": [
    "___\n",
    "### Qualidade do Classificador a partir de novas separações dos tweets entre Treinamento e Teste\n",
    "\n",
    "Caso for fazer esse item do Projeto"
   ],
   "metadata": {
    "id": "TKGNd3ExX15b"
   }
  },
  {
   "cell_type": "code",
   "execution_count": null,
   "source": [],
   "outputs": [],
   "metadata": {
    "id": "I22gjLB9X15b"
   }
  },
  {
   "cell_type": "code",
   "execution_count": null,
   "source": [],
   "outputs": [],
   "metadata": {
    "id": "r2OyODHLX15b"
   }
  },
  {
   "cell_type": "code",
   "execution_count": null,
   "source": [],
   "outputs": [],
   "metadata": {
    "id": "ERXPVeWNX15b"
   }
  },
  {
   "cell_type": "markdown",
   "source": [
    "___\n",
    "## Aperfeiçoamento:\n",
    "\n",
    "Trabalhos que conseguirem pelo menos conceito B vão evoluir em conceito dependendo da quantidade de itens avançados:\n",
    "\n",
    "* IMPLEMENTOU outras limpezas e transformações que não afetem a qualidade da informação contida nos tweets. Ex: stemming, lemmatization, stopwords\n",
    "* CORRIGIU separação de espaços entre palavras e emojis ou entre emojis e emojis\n",
    "* CRIOU categorias intermediárias de relevância baseadas na probabilidade: ex.: muito relevante, relevante, neutro, irrelevante, muito irrelevante. Pelo menos quatro categorias, com adição de mais tweets na base, conforme enunciado. (OBRIGATÓRIO PARA TRIOS, sem contar como item avançado)\n",
    "* EXPLICOU porquê não pode usar o próprio classificador para gerar mais amostras de treinamento\n",
    "* PROPÔS diferentes cenários para Naïve Bayes fora do contexto do projeto\n",
    "* SUGERIU e EXPLICOU melhorias reais com indicações concretas de como implementar (indicar como fazer e indicar material de pesquisa)\n",
    "* FEZ o item 6. Qualidade do Classificador a partir de novas separações dos tweets entre Treinamento e Teste descrito no enunciado do projeto (OBRIGATÓRIO para conceitos A ou A+)"
   ],
   "metadata": {
    "id": "LeuFLsOBX15b"
   }
  },
  {
   "cell_type": "markdown",
   "source": [
    "___\n",
    "## Referências"
   ],
   "metadata": {
    "id": "8aPSt83FX15c"
   }
  },
  {
   "cell_type": "markdown",
   "source": [
    "[Naive Bayes and Text Classification](https://arxiv.org/pdf/1410.5329.pdf)  **Mais completo**\n",
    "\n",
    "[A practical explanation of a Naive Bayes Classifier](https://monkeylearn.com/blog/practical-explanation-naive-bayes-classifier/) **Mais simples**"
   ],
   "metadata": {
    "id": "EzwdbIpaX15c"
   }
  },
  {
   "cell_type": "markdown",
   "source": [
    "[Cleaning Text Data with Python](https://towardsdatascience.com/cleaning-text-data-with-python-b69b47b97b76) **Para formatação do texto**"
   ],
   "metadata": {
    "id": "W9sOI_4wX15c"
   }
  }
 ],
 "metadata": {
  "colab": {
   "collapsed_sections": [],
   "name": "Cópia de Projeto1_Layout_Classificador.ipynb",
   "provenance": []
  },
  "kernelspec": {
   "display_name": "Python 3",
   "language": "python",
   "name": "python3"
  },
  "language_info": {
   "codemirror_mode": {
    "name": "ipython",
    "version": 3
   },
   "file_extension": ".py",
   "mimetype": "text/x-python",
   "name": "python",
   "nbconvert_exporter": "python",
   "pygments_lexer": "ipython3",
   "version": "3.8.5"
  }
 },
 "nbformat": 4,
 "nbformat_minor": 1
}