{
 "cells": [
  {
   "cell_type": "markdown",
   "metadata": {
    "id": "IiUqx-miX15P"
   },
   "source": [
    "# Projeto 1 - Ciência dos Dados"
   ]
  },
  {
   "cell_type": "markdown",
   "metadata": {
    "id": "GO837r2VX15T"
   },
   "source": [
    "Nome: Gabriela Kimi Katsurayama\n",
    "\n",
    "Nome: João Pedro Rodrigues dos Santos\n",
    "\n",
    "Nome: Luiza Ferreira Ehrenberger"
   ]
  },
  {
   "cell_type": "markdown",
   "metadata": {
    "id": "P17y8cIrX15T"
   },
   "source": [
    "Atenção: Serão permitidos grupos de três pessoas, mas com uma rubrica mais exigente. Grupos deste tamanho precisarão fazer um questionário de avaliação de trabalho em equipe"
   ]
  },
  {
   "cell_type": "markdown",
   "metadata": {
    "id": "BYOA26a0X15U"
   },
   "source": [
    "___\n",
    "Carregando algumas bibliotecas:"
   ]
  },
  {
   "cell_type": "code",
   "execution_count": 1,
   "metadata": {
    "id": "SerHa6fpX15U"
   },
   "outputs": [],
   "source": [
    "%matplotlib inline\n",
    "import pandas as pd\n",
    "import matplotlib.pyplot as plt\n",
    "import numpy as np\n",
    "import os\n",
    "import re \n",
    "import nltk\n",
    "import string\n",
    "from nltk.corpus import stopwords\n",
    "pd.set_option(\"display.max_colwidth\", None)\n",
    "\n",
    "def cleanup(text):\n",
    "    \"\"\"\n",
    "        Função de limpeza muito simples que troca alguns sinais básicos por espaços\n",
    "    \"\"\"\n",
    "    #import string\n",
    "    punctuation = '[!-.:?;]' # Note que os sinais [] são delimitadores de um conjunto.\n",
    "    pattern = re.compile(punctuation)\n",
    "    text_subbed = re.sub(pattern, '', text)\n",
    "    return text_subbed"
   ]
  },
  {
   "cell_type": "code",
   "execution_count": 2,
   "metadata": {
    "id": "8s2qx-D_X15V",
    "outputId": "a82db708-bf34-49f1-f219-bd62376225e6",
    "scrolled": false
   },
   "outputs": [
    {
     "name": "stdout",
     "output_type": "stream",
     "text": [
      "Esperamos trabalhar no diretório\n",
      "C:\\Users\\jpthe\\Ciencia de dados\\CD21-2\\P1 git\\Cdados1\n"
     ]
    }
   ],
   "source": [
    "print('Esperamos trabalhar no diretório')\n",
    "print(os.getcwd())"
   ]
  },
  {
   "cell_type": "markdown",
   "metadata": {
    "id": "iHIKP3mFX15W"
   },
   "source": [
    "Carregando a base de dados com os tweets classificados como relevantes e não relevantes:"
   ]
  },
  {
   "cell_type": "code",
   "execution_count": 3,
   "metadata": {
    "id": "emMrDcjEX15X"
   },
   "outputs": [],
   "source": [
    "filename = 'Iphone 12 novo.xlsx'"
   ]
  },
  {
   "cell_type": "code",
   "execution_count": 4,
   "metadata": {
    "id": "J2KPDF_HX15X",
    "outputId": "802bbe52-3b48-442a-800c-7593a5555b6c"
   },
   "outputs": [
    {
     "data": {
      "text/html": [
       "<div>\n",
       "<style scoped>\n",
       "    .dataframe tbody tr th:only-of-type {\n",
       "        vertical-align: middle;\n",
       "    }\n",
       "\n",
       "    .dataframe tbody tr th {\n",
       "        vertical-align: top;\n",
       "    }\n",
       "\n",
       "    .dataframe thead th {\n",
       "        text-align: right;\n",
       "    }\n",
       "</style>\n",
       "<table border=\"1\" class=\"dataframe\">\n",
       "  <thead>\n",
       "    <tr style=\"text-align: right;\">\n",
       "      <th></th>\n",
       "      <th>Treinamento</th>\n",
       "      <th>Classificação</th>\n",
       "    </tr>\n",
       "  </thead>\n",
       "  <tbody>\n",
       "    <tr>\n",
       "      <th>0</th>\n",
       "      <td>eu do nada me pego rindo do professor falando de burguesia e tirando um iphone 12 pro max do bolso kkkkk</td>\n",
       "      <td>0</td>\n",
       "    </tr>\n",
       "    <tr>\n",
       "      <th>1</th>\n",
       "      <td>trocarias alguém da escola,por um iphone 12?\\n-waweeee eliane.😭</td>\n",
       "      <td>0</td>\n",
       "    </tr>\n",
       "    <tr>\n",
       "      <th>2</th>\n",
       "      <td>sobre o iphone 6s “não ter mais whatsapp”. é td mentira, a maioria ta no ios 12 pra cima, então deixem de alarme ate pq so vai sair se vc tiver no ios 9</td>\n",
       "      <td>3</td>\n",
       "    </tr>\n",
       "    <tr>\n",
       "      <th>3</th>\n",
       "      <td>ios 15 ja meu iphone n guenta nem o 12 direito https://t.co/mcshdy359r</td>\n",
       "      <td>4</td>\n",
       "    </tr>\n",
       "    <tr>\n",
       "      <th>4</th>\n",
       "      <td>nosso que pechincha 👀🙄uau 🙃\\nhttps://t.co/jyhyn71jch</td>\n",
       "      <td>0</td>\n",
       "    </tr>\n",
       "  </tbody>\n",
       "</table>\n",
       "</div>"
      ],
      "text/plain": [
       "                                                                                                                                                Treinamento  \\\n",
       "0                                                  eu do nada me pego rindo do professor falando de burguesia e tirando um iphone 12 pro max do bolso kkkkk   \n",
       "1                                                                                           trocarias alguém da escola,por um iphone 12?\\n-waweeee eliane.😭   \n",
       "2  sobre o iphone 6s “não ter mais whatsapp”. é td mentira, a maioria ta no ios 12 pra cima, então deixem de alarme ate pq so vai sair se vc tiver no ios 9   \n",
       "3                                                                                    ios 15 ja meu iphone n guenta nem o 12 direito https://t.co/mcshdy359r   \n",
       "4                                                                                                      nosso que pechincha 👀🙄uau 🙃\\nhttps://t.co/jyhyn71jch   \n",
       "\n",
       "   Classificação  \n",
       "0              0  \n",
       "1              0  \n",
       "2              3  \n",
       "3              4  \n",
       "4              0  "
      ]
     },
     "execution_count": 4,
     "metadata": {},
     "output_type": "execute_result"
    }
   ],
   "source": [
    "train = pd.read_excel(filename)\n",
    "train.head(5)"
   ]
  },
  {
   "cell_type": "code",
   "execution_count": 5,
   "metadata": {
    "id": "vzF_vTLvX15X",
    "outputId": "f8f8f729-9449-49b4-d8fd-e413124f5b42"
   },
   "outputs": [
    {
     "data": {
      "text/html": [
       "<div>\n",
       "<style scoped>\n",
       "    .dataframe tbody tr th:only-of-type {\n",
       "        vertical-align: middle;\n",
       "    }\n",
       "\n",
       "    .dataframe tbody tr th {\n",
       "        vertical-align: top;\n",
       "    }\n",
       "\n",
       "    .dataframe thead th {\n",
       "        text-align: right;\n",
       "    }\n",
       "</style>\n",
       "<table border=\"1\" class=\"dataframe\">\n",
       "  <thead>\n",
       "    <tr style=\"text-align: right;\">\n",
       "      <th></th>\n",
       "      <th>Teste</th>\n",
       "      <th>Classificação</th>\n",
       "    </tr>\n",
       "  </thead>\n",
       "  <tbody>\n",
       "    <tr>\n",
       "      <th>0</th>\n",
       "      <td>queria lançar o iphone 12 mas é mto dinheiro numa coisa só, o certo é pegar o 11 que ai já da pra pegar agr</td>\n",
       "      <td>4.0</td>\n",
       "    </tr>\n",
       "    <tr>\n",
       "      <th>1</th>\n",
       "      <td>ganhei um iphone 12 pro max e o apple watch de presente 😍😍😍😍😍😍😍😍😍😍😍😍</td>\n",
       "      <td>0.0</td>\n",
       "    </tr>\n",
       "    <tr>\n",
       "      <th>2</th>\n",
       "      <td>@forsjin iphone? meu namorado pagou 1k no 12 fiquei em choque vius</td>\n",
       "      <td>1.0</td>\n",
       "    </tr>\n",
       "    <tr>\n",
       "      <th>3</th>\n",
       "      <td>tem uma criança que tá do meu lado que tem um iphone x e a mãe dele tem um 12 pro max. tô indignado com meu j7 todo quebrado</td>\n",
       "      <td>1.0</td>\n",
       "    </tr>\n",
       "    <tr>\n",
       "      <th>4</th>\n",
       "      <td>pensando que é tão besteira pra mim trocar meu iphone 11 pro 12 no natal</td>\n",
       "      <td>1.0</td>\n",
       "    </tr>\n",
       "  </tbody>\n",
       "</table>\n",
       "</div>"
      ],
      "text/plain": [
       "                                                                                                                          Teste  \\\n",
       "0                   queria lançar o iphone 12 mas é mto dinheiro numa coisa só, o certo é pegar o 11 que ai já da pra pegar agr   \n",
       "1                                                          ganhei um iphone 12 pro max e o apple watch de presente 😍😍😍😍😍😍😍😍😍😍😍😍   \n",
       "2                                                            @forsjin iphone? meu namorado pagou 1k no 12 fiquei em choque vius   \n",
       "3  tem uma criança que tá do meu lado que tem um iphone x e a mãe dele tem um 12 pro max. tô indignado com meu j7 todo quebrado   \n",
       "4                                                      pensando que é tão besteira pra mim trocar meu iphone 11 pro 12 no natal   \n",
       "\n",
       "   Classificação  \n",
       "0            4.0  \n",
       "1            0.0  \n",
       "2            1.0  \n",
       "3            1.0  \n",
       "4            1.0  "
      ]
     },
     "execution_count": 5,
     "metadata": {},
     "output_type": "execute_result"
    }
   ],
   "source": [
    "test = pd.read_excel(filename, sheet_name = 'Teste')\n",
    "test.head(5)\n",
    "# with open(\"Iphone 12 novo.xlsx\", \"r\", encoding=\"utf-8-sig\") as arquivo_texto:\n",
    "#     test = arquivo_texto.read()"
   ]
  },
  {
   "cell_type": "markdown",
   "metadata": {
    "id": "NGn5EDWNX15Y"
   },
   "source": [
    "___\n",
    "## Classificador automático de sentimento\n"
   ]
  },
  {
   "cell_type": "markdown",
   "metadata": {
    "id": "p4_79at3X15Y"
   },
   "source": [
    "Faça aqui uma descrição do seu produto e o que considerou como relevante ou não relevante na classificação dos tweets.\n",
    "\n",
    "ESCREVA AQUI..."
   ]
  },
  {
   "cell_type": "markdown",
   "metadata": {
    "id": "qYvDywsMX15Y"
   },
   "source": [
    "___\n",
    "### Montando um Classificador Naive-Bayes\n",
    "\n",
    "Considerando apenas as mensagens da planilha Treinamento, ensine  seu classificador."
   ]
  },
  {
   "cell_type": "code",
   "execution_count": 6,
   "metadata": {
    "id": "whxOWcjdX15Z"
   },
   "outputs": [],
   "source": [
    "from typing import Awaitable\n",
    "\n",
    "\n",
    "def limpa_txt(txt):\n",
    "  carac = ['\\n', ':', '\"', '`', '!', '?', ';','(',')', '[', ']', '%', '&', ',', '.', '@', '/']\n",
    "  for i in txt:\n",
    "    if i in carac:\n",
    "        testador = txt.find(i)\n",
    "        txt = txt[:testador] + txt[testador+1:]\n",
    "  vn = arruma_esp(txt)\n",
    "  return vn\n",
    "\n",
    "def arruma_esp(txt):\n",
    "  i = 0\n",
    "  frase = ''\n",
    "  aa = 0\n",
    "  while i < len(txt)+1:\n",
    "    if i >= 1:\n",
    "        if i >= len(txt):\n",
    "            frase += txt[i-1]\n",
    "            return frase\n",
    "        else:     \n",
    "            if txt[i] == ' ' and txt[i-1] == ' ':\n",
    "                aa += 1\n",
    "            else:     \n",
    "                frase += txt[i-1]\n",
    "    i += 1\n"
   ]
  },
  {
   "cell_type": "code",
   "execution_count": 7,
   "metadata": {},
   "outputs": [],
   "source": [
    "stop_words = stopwords.words(\"portuguese\")\n",
    "#wordnet = WordNetLemmatizer()\n",
    "def text_preproc(x):\n",
    "  #x = x.encode('ascii', 'ignore').decode()\n",
    "  #a = re.sub(r'https*\\S+', ' ', x)\n",
    "  #b = re.sub(r'\\s{2,}', ' ', a)\n",
    "  c = re.sub(r'@\\S+', ' ', x)\n",
    "  d = re.sub(r'#\\S+', ' ', c)\n",
    "  e = re.sub(r'\\'\\w+', '', d)\n",
    "  f = re.sub('[%s]' % re.escape(string.punctuation), ' ', e)\n",
    "  #g = re.sub(r'\\w*\\d+\\w*', '', f)\n",
    "  h = f.strip('\\n')\n",
    "  return h\n"
   ]
  },
  {
   "cell_type": "code",
   "execution_count": 8,
   "metadata": {
    "id": "kiLXHQdVX15Z"
   },
   "outputs": [],
   "source": [
    "# qtd = train.groupby('Classificação').size().div(len(train))\n",
    "# qtd\n",
    "\n",
    "filtra_linhas_0 = train['Classificação'] == 0\n",
    "mir = train.loc[filtra_linhas_0, :]\n",
    "\n",
    "filtra_linhas_1 = train['Classificação'] == 1\n",
    "ir = train.loc[filtra_linhas_1, :]\n",
    "\n",
    "filtra_linhas_2 = train['Classificação'] == 2\n",
    "n = train.loc[filtra_linhas_2, :]\n",
    "\n",
    "filtra_linhas_3 = train['Classificação'] == 3\n",
    "r = train.loc[filtra_linhas_3, :]\n",
    "\n",
    "filtra_linhas_4 = train['Classificação'] == 4\n",
    "mr = train.loc[filtra_linhas_4, :]\n",
    "\n",
    "\n",
    "#/----------------------------------------------------/\n",
    "\n",
    "m_i_r = mir['Treinamento'].to_string().lower()\n",
    "m_i_r2 = limpa_txt(m_i_r)\n",
    "m_i_r3 = m_i_r2.split()\n",
    "serie_tweets = pd.Series(m_i_r3)\n",
    "tabela_tts_mir_relativa = serie_tweets.value_counts(True)\n",
    "tabela_tts_mir = serie_tweets.value_counts()\n",
    "\n",
    "ir_1 = ir['Treinamento'].to_string().lower()\n",
    "ir2 = limpa_txt(ir_1)\n",
    "ir3 = ir2.split()\n",
    "serie_tweets = pd.Series(ir3)\n",
    "tabela_tts_ir_relativa = serie_tweets.value_counts(True)\n",
    "tabela_tts_ir = serie_tweets.value_counts()\n",
    "\n",
    "n_1 = n['Treinamento'].to_string().lower()\n",
    "n2 = limpa_txt(n_1)\n",
    "n3 = n2.split()\n",
    "serie_tweets = pd.Series(n2)\n",
    "tabela_tts_n_relativa = serie_tweets.value_counts(True)\n",
    "tabela_tts_n = serie_tweets.value_counts()\n",
    "\n",
    "# aaa = ''\n",
    "# aaaa = ''\n",
    "# for x in m_i:\n",
    "#     aaa += text_preproc(x)\n",
    "# for x in aaa:\n",
    "#     x = re.sub(r'https*\\S+', ' ', x)\n",
    "#     x = re.sub(r'\\s{2,}', ' ', x)\n",
    "#     aaaa += x\n",
    "\n",
    "r_1 = r['Treinamento'].to_string().lower()\n",
    "r_2 = limpa_txt(r_1)\n",
    "r_3 = r_2.split()\n",
    "serie_tweets = pd.Series(r_3)\n",
    "tabela_tts_r_relativa = serie_tweets.value_counts(True)\n",
    "tabela_tts_r = serie_tweets.value_counts()\n",
    "#m_i2_5 = ''\n",
    "# for x in m_i:\n",
    "#     x = re.sub(r'(https|http)?:\\/\\/(\\w|\\.|\\/|\\?|\\=|\\&|\\%)*\\b', '', x, flags=re.MULTILINE)\n",
    "#     #x = re.sub(\"https*\\S+\", \" \", x)\n",
    "#     x = re.sub(r'\\w*\\d+\\w*', '', x)\n",
    "#     teste_12 = x.strip('\\n')\n",
    "#     m_i2_5 += teste_12\n",
    "\n",
    "mr_1 = mr['Treinamento'].to_string().lower()\n",
    "mr2 = limpa_txt(mr_1)\n",
    "mr3 = mr2.split()\n",
    "serie_tweets = pd.Series(mr3)\n",
    "tabela_tts_mr_relativa = serie_tweets.value_counts(True)\n",
    "tabela_tts_mr = serie_tweets.value_counts()\n",
    "\n",
    "\n",
    "\n",
    "#print(len(m_i3))\n",
    "# aaaa\n",
    "# #m_i2_5\n",
    "\n",
    "\n"
   ]
  },
  {
   "cell_type": "code",
   "execution_count": 9,
   "metadata": {},
   "outputs": [
    {
     "data": {
      "text/plain": [
       "'ios ja meu iphone n guenta nem o direito '"
      ]
     },
     "execution_count": 9,
     "metadata": {},
     "output_type": "execute_result"
    }
   ],
   "source": [
    "x = 'ios  ja meu iphone n guenta nem o  direito https://t.co/mcshdyr'\n",
    "\n",
    "x = re.sub(r'https*\\S+', ' ', x)\n",
    "x = re.sub(r'\\s{2,}', ' ', x)\n",
    "x"
   ]
  },
  {
   "cell_type": "code",
   "execution_count": 10,
   "metadata": {},
   "outputs": [],
   "source": [
    "# for i in m_i:\n",
    "#     i = re.sub(\"https*\\S+\", \" \", i)"
   ]
  },
  {
   "cell_type": "code",
   "execution_count": 11,
   "metadata": {
    "id": "ZOrSe_7OX15Z"
   },
   "outputs": [
    {
     "name": "stdout",
     "output_type": "stream",
     "text": [
      "93310\n"
     ]
    }
   ],
   "source": [
    "todos = [m_i_r2, ir2, n2, r_2, mr2]\n",
    "i = 0\n",
    "tabela_geral = ''\n",
    "while i < len(todos):\n",
    "    tabela_geral += todos[i]\n",
    "    i += 1\n",
    "i = 0\n",
    "teste3 = 0\n",
    "while i < len(todos):\n",
    "    teste3 += len(todos[i])\n",
    "    i += 1\n",
    "print(teste3)\n",
    "\n",
    "todas_palavras = tabela_geral.split()\n",
    "serie_geral = pd.Series(todas_palavras)\n",
    "\n",
    "tabela_geral_relativa = serie_geral.value_counts(True)\n",
    "#tabela_geral_relativa\n",
    "#print(len(todas_palavras))"
   ]
  },
  {
   "cell_type": "code",
   "execution_count": 12,
   "metadata": {},
   "outputs": [
    {
     "name": "stdout",
     "output_type": "stream",
     "text": [
      "375    eu amo esses vídeos sobre iphone 13 do pessoal jurando q a apple finalmente vai diminuir aquele entalhe na tela aí qnd chega no lançamento n diminuem porra nenhuma, foi a msm coisa no 12 kk\n",
      " eu amo esses vídeos sobre iphone do pessoal jurando q a apple finalmente vai diminuir aquele entalhe na tela aí qnd chega no lançamento n diminuem porra nenhuma foi a msm coisa no kk\n"
     ]
    }
   ],
   "source": [
    "tt = test['Teste'].sample().to_string().lower()\n",
    "print(tt)\n",
    "\n",
    "tt10 = cleanup(tt)\n",
    "xa = re.sub(r'\\w*\\d+\\w*', '', tt10)\n",
    "xb = re.sub(\"@\\S+\", \" \", xa)\n",
    "xc = re.sub(\"https*\\S+\", \" \", xb)\n",
    "xd = limpa_txt(xc)\n",
    "print(xd)"
   ]
  },
  {
   "cell_type": "markdown",
   "metadata": {
    "id": "c8gg4NdtX15Z"
   },
   "source": [
    "___\n",
    "### Verificando a performance do Classificador\n",
    "\n",
    "Agora você deve testar o seu classificador com a base de Testes."
   ]
  },
  {
   "cell_type": "code",
   "execution_count": 13,
   "metadata": {},
   "outputs": [
    {
     "name": "stdout",
     "output_type": "stream",
     "text": [
      "['eu', 'amo', 'esses', 'vídeos', 'sobre', 'iphone', 'do', 'pessoal', 'jurando', 'q', 'a', 'apple', 'finalmente', 'vai', 'diminuir', 'aquele', 'entalhe', 'na', 'tela', 'aí', 'qnd', 'chega', 'no', 'lançamento', 'n', 'diminuem', 'porra', 'nenhuma', 'foi', 'a', 'msm', 'coisa', 'no', 'kk']\n"
     ]
    }
   ],
   "source": [
    "frase_cortada = xd.split()\n",
    "\n",
    "#print(tabela_tts_mir_relativa['exibida'])\n",
    "print(frase_cortada)"
   ]
  },
  {
   "cell_type": "code",
   "execution_count": 14,
   "metadata": {
    "id": "qD5UVGyKX15a"
   },
   "outputs": [
    {
     "name": "stdout",
     "output_type": "stream",
     "text": [
      "0.6090236844925517 0.15689636694888007 0.09709570249705284 0.08648590719108348 0.0504983388704319\n"
     ]
    }
   ],
   "source": [
    "prob0 = len(m_i_r2)/teste3\n",
    "prob1 = len(ir2)/teste3\n",
    "prob2 = len(n2)/teste3\n",
    "prob3 = len(r_2)/teste3\n",
    "prob4 = len(mr2)/teste3\n",
    "print(prob0,prob1,prob2,prob3,prob4)"
   ]
  },
  {
   "cell_type": "code",
   "execution_count": 15,
   "metadata": {
    "id": "r7R4HF44X15a"
   },
   "outputs": [],
   "source": [
    "#calcula a prob de estar la\n",
    "i = 0\n",
    "probFraseDado0 = 1\n",
    "probFraseDado1 = 1\n",
    "probFraseDado2 = 1\n",
    "probFraseDado3 = 1\n",
    "probFraseDado4 = 1\n",
    "\n",
    "\n",
    "while i < len(frase_cortada):\n",
    "    if frase_cortada[i] not in tabela_tts_mir:\n",
    "        P_palavra0 = 1\n",
    "    else:\n",
    "        P_palavra0 = tabela_tts_mir_relativa[frase_cortada[i]]\n",
    "    \n",
    "    if frase_cortada[i] not in tabela_tts_ir:\n",
    "        P_palavra1 = 1\n",
    "    else:\n",
    "        P_palavra1 = tabela_tts_ir_relativa[frase_cortada[i]]\n",
    "    \n",
    "    if frase_cortada[i] not in tabela_tts_n:\n",
    "        P_palavra2 = 1\n",
    "    else:\n",
    "        P_palavra2 = tabela_tts_n_relativa[frase_cortada[i]]\n",
    "    \n",
    "    if frase_cortada[i] not in tabela_tts_r:\n",
    "        P_palavra3 = 1\n",
    "    else:\n",
    "        P_palavra3 = tabela_tts_r_relativa[frase_cortada[i]]\n",
    "    \n",
    "    if frase_cortada[i] not in tabela_tts_mr:\n",
    "        P_palavra4 = 1\n",
    "    else:\n",
    "        P_palavra4 = tabela_tts_mr_relativa[frase_cortada[i]]\n",
    "        \n",
    "    probFraseDado0 *= P_palavra0\n",
    "    probFraseDado1 *= P_palavra1\n",
    "    probFraseDado2 *= P_palavra2\n",
    "    probFraseDado3 *= P_palavra3\n",
    "    probFraseDado4 *= P_palavra4\n",
    "    i += 1\n",
    "        "
   ]
  },
  {
   "cell_type": "code",
   "execution_count": 16,
   "metadata": {
    "id": "qon7gwquX15a"
   },
   "outputs": [
    {
     "name": "stdout",
     "output_type": "stream",
     "text": [
      "1.4683581448930667e-79 1.2526772042331323e-61 0.09709570249705284 2.65086515247137e-50 3.637296808550911e-42\n",
      "Neutro\n",
      "Muito Relevante\n"
     ]
    }
   ],
   "source": [
    "resp0 = probFraseDado0*prob0\n",
    "resp1 = probFraseDado1*prob1\n",
    "resp2 = probFraseDado2*prob2\n",
    "resp3 = probFraseDado3*prob3\n",
    "resp4 = probFraseDado4*prob4\n",
    "resps = []\n",
    "print(resp0,resp1,resp2,resp3,resp4)\n",
    "resps.append(resp0)\n",
    "resps.append(resp1)\n",
    "resps.append(resp2)\n",
    "resps.append(resp3)\n",
    "resps.append(resp4)\n",
    "\n",
    "#print(max(resps))\n",
    "if max(resps) == resp2:\n",
    "    print('Neutro')\n",
    "    resps.remove(resp2)\n",
    "    if max(resps) == resp0:\n",
    "        print('Muito irrelevante')\n",
    "    if max(resps) == resp1:\n",
    "        print('Irrelevante')\n",
    "    if max(resps) == resp3:\n",
    "        print('Relevante')\n",
    "    if max(resps) == resp4:\n",
    "        print('Muito Relevante')\n",
    "\n",
    "\n",
    "\n",
    "\n",
    "\n",
    "\n",
    "\n",
    "# if resp0 > resp1 and resp0 > resp2 and resp0 > resp3 and resp0 > resp4:\n",
    "#     print('Esse tweet é muito irrelevante')\n",
    "# if resp1 > resp2 and resp1 > resp3 and resp1 > resp4 and resp1 > resp4:\n",
    "#     print('Esse tweet é irrelevante')\n",
    "# if resp2 > resp3 and resp3 > resp4 and resp2 > resp0 and resp2 > resp1:\n",
    "#     print('Esse tweet é neutro')\n",
    "# if resp3 > resp4 and resp3 > resp1 and resp3 > resp0 and resp3 > resp2:\n",
    "#     print('Esse tweet é relevante')\n",
    "# if resp4 > resp0 and resp4 > resp3 and resp4 > resp2 and resp4 > resp1:\n",
    "#     print('Esse tweet é muito relevante')"
   ]
  },
  {
   "cell_type": "markdown",
   "metadata": {
    "id": "uy1PtkOjX15a"
   },
   "source": [
    "___\n",
    "### Concluindo"
   ]
  },
  {
   "cell_type": "code",
   "execution_count": null,
   "metadata": {
    "id": "1O3RDIVHX15a"
   },
   "outputs": [],
   "source": []
  },
  {
   "cell_type": "code",
   "execution_count": null,
   "metadata": {
    "id": "ET176hzMX15a"
   },
   "outputs": [],
   "source": []
  },
  {
   "cell_type": "code",
   "execution_count": null,
   "metadata": {
    "id": "XkqeerwUX15b"
   },
   "outputs": [],
   "source": []
  },
  {
   "cell_type": "markdown",
   "metadata": {
    "id": "TKGNd3ExX15b"
   },
   "source": [
    "___\n",
    "### Qualidade do Classificador a partir de novas separações dos tweets entre Treinamento e Teste\n",
    "\n",
    "Caso for fazer esse item do Projeto"
   ]
  },
  {
   "cell_type": "code",
   "execution_count": null,
   "metadata": {
    "id": "I22gjLB9X15b"
   },
   "outputs": [],
   "source": []
  },
  {
   "cell_type": "code",
   "execution_count": null,
   "metadata": {
    "id": "r2OyODHLX15b"
   },
   "outputs": [],
   "source": []
  },
  {
   "cell_type": "code",
   "execution_count": null,
   "metadata": {
    "id": "ERXPVeWNX15b"
   },
   "outputs": [],
   "source": []
  },
  {
   "cell_type": "markdown",
   "metadata": {
    "id": "LeuFLsOBX15b"
   },
   "source": [
    "___\n",
    "## Aperfeiçoamento:\n",
    "\n",
    "Trabalhos que conseguirem pelo menos conceito B vão evoluir em conceito dependendo da quantidade de itens avançados:\n",
    "\n",
    "* IMPLEMENTOU outras limpezas e transformações que não afetem a qualidade da informação contida nos tweets. Ex: stemming, lemmatization, stopwords\n",
    "* CORRIGIU separação de espaços entre palavras e emojis ou entre emojis e emojis\n",
    "* CRIOU categorias intermediárias de relevância baseadas na probabilidade: ex.: muito relevante, relevante, neutro, irrelevante, muito irrelevante. Pelo menos quatro categorias, com adição de mais tweets na base, conforme enunciado. (OBRIGATÓRIO PARA TRIOS, sem contar como item avançado)\n",
    "* EXPLICOU porquê não pode usar o próprio classificador para gerar mais amostras de treinamento\n",
    "* PROPÔS diferentes cenários para Naïve Bayes fora do contexto do projeto\n",
    "* SUGERIU e EXPLICOU melhorias reais com indicações concretas de como implementar (indicar como fazer e indicar material de pesquisa)\n",
    "* FEZ o item 6. Qualidade do Classificador a partir de novas separações dos tweets entre Treinamento e Teste descrito no enunciado do projeto (OBRIGATÓRIO para conceitos A ou A+)"
   ]
  },
  {
   "cell_type": "markdown",
   "metadata": {
    "id": "8aPSt83FX15c"
   },
   "source": [
    "___\n",
    "## Referências"
   ]
  },
  {
   "cell_type": "markdown",
   "metadata": {
    "id": "EzwdbIpaX15c"
   },
   "source": [
    "[Naive Bayes and Text Classification](https://arxiv.org/pdf/1410.5329.pdf)  **Mais completo**\n",
    "\n",
    "[A practical explanation of a Naive Bayes Classifier](https://monkeylearn.com/blog/practical-explanation-naive-bayes-classifier/) **Mais simples**"
   ]
  },
  {
   "cell_type": "markdown",
   "metadata": {
    "id": "W9sOI_4wX15c"
   },
   "source": [
    "[Cleaning Text Data with Python](https://towardsdatascience.com/cleaning-text-data-with-python-b69b47b97b76) **Para formatação do texto**"
   ]
  }
 ],
 "metadata": {
  "colab": {
   "collapsed_sections": [],
   "name": "Cópia de Projeto1_Layout_Classificador.ipynb",
   "provenance": []
  },
  "kernelspec": {
   "display_name": "Python 3",
   "language": "python",
   "name": "python3"
  },
  "language_info": {
   "codemirror_mode": {
    "name": "ipython",
    "version": 3
   },
   "file_extension": ".py",
   "mimetype": "text/x-python",
   "name": "python",
   "nbconvert_exporter": "python",
   "pygments_lexer": "ipython3",
   "version": "3.8.5"
  }
 },
 "nbformat": 4,
 "nbformat_minor": 1
}
