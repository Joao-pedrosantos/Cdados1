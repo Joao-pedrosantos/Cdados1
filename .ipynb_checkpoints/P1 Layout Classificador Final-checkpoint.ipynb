{
 "cells": [
  {
   "cell_type": "markdown",
   "metadata": {
    "id": "IiUqx-miX15P"
   },
   "source": [
    "# Projeto 1 - Ciência dos Dados"
   ]
  },
  {
   "cell_type": "markdown",
   "metadata": {
    "id": "GO837r2VX15T"
   },
   "source": [
    "Nome: Gabriela Kimi Katsurayama\n",
    "\n",
    "Nome: João Pedro Rodrigues dos Santos\n",
    "\n",
    "Nome: Luiza Ferreira Ehrenberger"
   ]
  },
  {
   "cell_type": "markdown",
   "metadata": {
    "id": "P17y8cIrX15T"
   },
   "source": [
    "Atenção: Serão permitidos grupos de três pessoas, mas com uma rubrica mais exigente. Grupos deste tamanho precisarão fazer um questionário de avaliação de trabalho em equipe"
   ]
  },
  {
   "cell_type": "markdown",
   "metadata": {
    "id": "BYOA26a0X15U"
   },
   "source": [
    "___\n",
    "Carregando algumas bibliotecas:"
   ]
  },
  {
   "cell_type": "code",
   "execution_count": 1,
   "metadata": {
    "id": "SerHa6fpX15U"
   },
   "outputs": [],
   "source": [
    "%matplotlib inline\n",
    "import pandas as pd\n",
    "import matplotlib.pyplot as plt\n",
    "import numpy as np\n",
    "import os\n",
    "import re \n",
    "import nltk\n",
    "import string\n",
    "from nltk.corpus import stopwords\n",
    "#nltk.download('stopwords')\n",
    "pd.set_option(\"display.max_colwidth\", None)"
   ]
  },
  {
   "cell_type": "code",
   "execution_count": 2,
   "metadata": {
    "id": "8s2qx-D_X15V",
    "outputId": "a82db708-bf34-49f1-f219-bd62376225e6",
    "scrolled": false
   },
   "outputs": [
    {
     "name": "stdout",
     "output_type": "stream",
     "text": [
      "Esperamos trabalhar no diretório\n",
      "C:\\Users\\jpthe\\Ciencia de dados\\CD21-2\\P1 git\\Cdados1\n"
     ]
    }
   ],
   "source": [
    "print('Esperamos trabalhar no diretório')\n",
    "print(os.getcwd())"
   ]
  },
  {
   "cell_type": "markdown",
   "metadata": {
    "id": "iHIKP3mFX15W"
   },
   "source": [
    "Carregando a base de dados com os tweets classificados como relevantes e não relevantes:"
   ]
  },
  {
   "cell_type": "code",
   "execution_count": 3,
   "metadata": {
    "id": "emMrDcjEX15X"
   },
   "outputs": [],
   "source": [
    "filename = 'Iphone 12.xlsx'"
   ]
  },
  {
   "cell_type": "code",
   "execution_count": 4,
   "metadata": {
    "id": "J2KPDF_HX15X",
    "outputId": "802bbe52-3b48-442a-800c-7593a5555b6c"
   },
   "outputs": [
    {
     "data": {
      "text/html": [
       "<div>\n",
       "<style scoped>\n",
       "    .dataframe tbody tr th:only-of-type {\n",
       "        vertical-align: middle;\n",
       "    }\n",
       "\n",
       "    .dataframe tbody tr th {\n",
       "        vertical-align: top;\n",
       "    }\n",
       "\n",
       "    .dataframe thead th {\n",
       "        text-align: right;\n",
       "    }\n",
       "</style>\n",
       "<table border=\"1\" class=\"dataframe\">\n",
       "  <thead>\n",
       "    <tr style=\"text-align: right;\">\n",
       "      <th></th>\n",
       "      <th>Treinamento</th>\n",
       "      <th>Classificação</th>\n",
       "    </tr>\n",
       "  </thead>\n",
       "  <tbody>\n",
       "    <tr>\n",
       "      <th>0</th>\n",
       "      <td>eu do nada me pego rindo do professor falando de burguesia e tirando um iphone 12 pro max do bolso kkkkk</td>\n",
       "      <td>0</td>\n",
       "    </tr>\n",
       "    <tr>\n",
       "      <th>1</th>\n",
       "      <td>trocarias alguém da escola,por um iphone 12?\\n-waweeee eliane.😭</td>\n",
       "      <td>0</td>\n",
       "    </tr>\n",
       "    <tr>\n",
       "      <th>2</th>\n",
       "      <td>sobre o iphone 6s “não ter mais whatsapp”. é td mentira, a maioria ta no ios 12 pra cima, então deixem de alarme ate pq so vai sair se vc tiver no ios 9</td>\n",
       "      <td>3</td>\n",
       "    </tr>\n",
       "    <tr>\n",
       "      <th>3</th>\n",
       "      <td>ios 15 ja meu iphone n guenta nem o 12 direito https://t.co/mcshdy359r</td>\n",
       "      <td>4</td>\n",
       "    </tr>\n",
       "    <tr>\n",
       "      <th>4</th>\n",
       "      <td>nosso que pechincha 👀🙄uau 🙃\\nhttps://t.co/jyhyn71jch</td>\n",
       "      <td>0</td>\n",
       "    </tr>\n",
       "  </tbody>\n",
       "</table>\n",
       "</div>"
      ],
      "text/plain": [
       "                                                                                                                                                Treinamento  \\\n",
       "0                                                  eu do nada me pego rindo do professor falando de burguesia e tirando um iphone 12 pro max do bolso kkkkk   \n",
       "1                                                                                           trocarias alguém da escola,por um iphone 12?\\n-waweeee eliane.😭   \n",
       "2  sobre o iphone 6s “não ter mais whatsapp”. é td mentira, a maioria ta no ios 12 pra cima, então deixem de alarme ate pq so vai sair se vc tiver no ios 9   \n",
       "3                                                                                    ios 15 ja meu iphone n guenta nem o 12 direito https://t.co/mcshdy359r   \n",
       "4                                                                                                      nosso que pechincha 👀🙄uau 🙃\\nhttps://t.co/jyhyn71jch   \n",
       "\n",
       "   Classificação  \n",
       "0              0  \n",
       "1              0  \n",
       "2              3  \n",
       "3              4  \n",
       "4              0  "
      ]
     },
     "execution_count": 4,
     "metadata": {},
     "output_type": "execute_result"
    }
   ],
   "source": [
    "train = pd.read_excel(filename)\n",
    "train.head(5)"
   ]
  },
  {
   "cell_type": "code",
   "execution_count": 5,
   "metadata": {
    "id": "vzF_vTLvX15X",
    "outputId": "f8f8f729-9449-49b4-d8fd-e413124f5b42"
   },
   "outputs": [
    {
     "data": {
      "text/html": [
       "<div>\n",
       "<style scoped>\n",
       "    .dataframe tbody tr th:only-of-type {\n",
       "        vertical-align: middle;\n",
       "    }\n",
       "\n",
       "    .dataframe tbody tr th {\n",
       "        vertical-align: top;\n",
       "    }\n",
       "\n",
       "    .dataframe thead th {\n",
       "        text-align: right;\n",
       "    }\n",
       "</style>\n",
       "<table border=\"1\" class=\"dataframe\">\n",
       "  <thead>\n",
       "    <tr style=\"text-align: right;\">\n",
       "      <th></th>\n",
       "      <th>Teste</th>\n",
       "      <th>Classificação</th>\n",
       "    </tr>\n",
       "  </thead>\n",
       "  <tbody>\n",
       "    <tr>\n",
       "      <th>0</th>\n",
       "      <td>queria lançar o iphone 12 mas é mto dinheiro numa coisa só, o certo é pegar o 11 que ai já da pra pegar agr</td>\n",
       "      <td>4.0</td>\n",
       "    </tr>\n",
       "    <tr>\n",
       "      <th>1</th>\n",
       "      <td>ganhei um iphone 12 pro max e o apple watch de presente 😍😍😍😍😍😍😍😍😍😍😍😍</td>\n",
       "      <td>0.0</td>\n",
       "    </tr>\n",
       "    <tr>\n",
       "      <th>2</th>\n",
       "      <td>@forsjin iphone? meu namorado pagou 1k no 12 fiquei em choque vius</td>\n",
       "      <td>1.0</td>\n",
       "    </tr>\n",
       "    <tr>\n",
       "      <th>3</th>\n",
       "      <td>tem uma criança que tá do meu lado que tem um iphone x e a mãe dele tem um 12 pro max. tô indignado com meu j7 todo quebrado</td>\n",
       "      <td>1.0</td>\n",
       "    </tr>\n",
       "    <tr>\n",
       "      <th>4</th>\n",
       "      <td>pensando que é tão besteira pra mim trocar meu iphone 11 pro 12 no natal</td>\n",
       "      <td>1.0</td>\n",
       "    </tr>\n",
       "  </tbody>\n",
       "</table>\n",
       "</div>"
      ],
      "text/plain": [
       "                                                                                                                          Teste  \\\n",
       "0                   queria lançar o iphone 12 mas é mto dinheiro numa coisa só, o certo é pegar o 11 que ai já da pra pegar agr   \n",
       "1                                                          ganhei um iphone 12 pro max e o apple watch de presente 😍😍😍😍😍😍😍😍😍😍😍😍   \n",
       "2                                                            @forsjin iphone? meu namorado pagou 1k no 12 fiquei em choque vius   \n",
       "3  tem uma criança que tá do meu lado que tem um iphone x e a mãe dele tem um 12 pro max. tô indignado com meu j7 todo quebrado   \n",
       "4                                                      pensando que é tão besteira pra mim trocar meu iphone 11 pro 12 no natal   \n",
       "\n",
       "   Classificação  \n",
       "0            4.0  \n",
       "1            0.0  \n",
       "2            1.0  \n",
       "3            1.0  \n",
       "4            1.0  "
      ]
     },
     "execution_count": 5,
     "metadata": {},
     "output_type": "execute_result"
    }
   ],
   "source": [
    "test = pd.read_excel(filename, sheet_name = 'Teste')\n",
    "test.head(5)"
   ]
  },
  {
   "cell_type": "markdown",
   "metadata": {
    "id": "NGn5EDWNX15Y"
   },
   "source": [
    "___\n",
    "## Classificador automático de sentimento\n"
   ]
  },
  {
   "cell_type": "markdown",
   "metadata": {
    "id": "p4_79at3X15Y"
   },
   "source": [
    "Faça aqui uma descrição do seu produto e o que considerou como relevante ou não relevante na classificação dos tweets.\n",
    "\n",
    "\n",
    "Nós procuramos encontrar um produto de muita relevância no cenário mundial. Depois de muito debate, concluímos que o Iphone 12 era o ideal, uma vez que ele tem muita exposição e estamos na época de anúncio da nova geração.\n",
    "Colocamos 0 para tweets muito irrelevantes, 1 para tweets irrelevantes, 2 para posts neutros, 3 para posts relevantes e 4 para tweets extremamente relevantes. Tem cerca de 1250 na base total e uma boa porcentagem de tweets neutros/relevantes."
   ]
  },
  {
   "cell_type": "markdown",
   "metadata": {
    "id": "qYvDywsMX15Y"
   },
   "source": [
    "___\n",
    "### Montando um Classificador Naive-Bayes\n",
    "\n",
    "Considerando apenas as mensagens da planilha Treinamento, ensine  seu classificador."
   ]
  },
  {
   "cell_type": "code",
   "execution_count": 6,
   "metadata": {
    "id": "whxOWcjdX15Z"
   },
   "outputs": [],
   "source": [
    "from typing import Awaitable\n",
    "#Aqui nós estamos definindo as funções. Essa célula contém as funções responsáveis pela limpeza do texto.\n",
    "\n",
    "def cleanup(text):\n",
    "    \"\"\"\n",
    "        Função de limpeza muito simples que troca alguns sinais básicos por espaços\n",
    "    \"\"\"\n",
    "    #import string\n",
    "    punctuation = '[!-.:?;]' # Note que os sinais [] são delimitadores de um conjunto.\n",
    "    pattern = re.compile(punctuation)\n",
    "    text_subbed = re.sub(pattern, '', text)\n",
    "    return text_subbed\n",
    "\n",
    "def limpa_txt(txt):\n",
    "  carac = ['\\n', ':', '\"', '`', '!', '?', ';','(',')', '[', ']', '%', '&', ',', '.', '@', '/']\n",
    "  for i in txt:\n",
    "    if i in carac:\n",
    "        testador = txt.find(i)\n",
    "        txt = txt[:testador] + txt[testador+1:]\n",
    "  vn = arruma_esp(txt)\n",
    "  return vn\n",
    "\n",
    "def arruma_esp(txt):\n",
    "  i = 0\n",
    "  frase = ''\n",
    "  aa = 0\n",
    "  while i < len(txt)+1:\n",
    "    if i >= 1:\n",
    "        if i >= len(txt):\n",
    "            frase += txt[i-1]\n",
    "            return frase\n",
    "        else:     \n",
    "            if txt[i] == ' ' and txt[i-1] == ' ':\n",
    "                aa += 1\n",
    "            else:     \n",
    "                frase += txt[i-1]\n",
    "    i += 1\n",
    "\n",
    "def text_preproc(x):\n",
    "  para = stopwords.words(\"portuguese\")\n",
    "  x = x.lower()\n",
    "  x = ' '.join([word for word in x.split(' ') if word not in para])\n",
    "  x = re.sub(r'https*\\S+', ' ', x)\n",
    "  x = re.sub(r'@\\S+', ' ', x)\n",
    "  x = re.sub(r'#\\S+', ' ', x)\n",
    "  x = re.sub(r'\\'\\w+', '', x)\n",
    "  x = re.sub('[%s]' % re.escape(string.punctuation), ' ', x)\n",
    "  x = re.sub(r'\\w*\\d+\\w*', '', x)\n",
    "  x = re.sub(r'\\s{2,}', ' ', x)\n",
    "  return x\n",
    "\n",
    "def corta_frase(frase):\n",
    "    tt = frase.lower()\n",
    "    tt10 = cleanup(tt)\n",
    "    xa = re.sub(r'\\w*\\d+\\w*', '', tt10)\n",
    "    xb = re.sub(\"@\\S+\", \" \", xa)\n",
    "    xc = re.sub(\"https*\\S+\", \" \", xb)\n",
    "    xd = limpa_txt(xc)\n",
    "    return xd"
   ]
  },
  {
   "cell_type": "code",
   "execution_count": 7,
   "metadata": {},
   "outputs": [],
   "source": [
    "#Nessa célula tem as funções relacionadas ao processo de obtenção da classificação do tweet.\n",
    "#A função Classifica faz os cálculos das probabilidades (basicamente o código da aula 7 - Classificador Camões/Lusíadas)\n",
    "\n",
    "def classifica(frase_cortada):\n",
    "    resps = []\n",
    "    i = 0\n",
    "    probFraseDado0 = 1\n",
    "    probFraseDado1 = 1\n",
    "    probFraseDado2 = 1\n",
    "    probFraseDado3 = 1\n",
    "    probFraseDado4 = 1\n",
    "\n",
    "    while i < len(frase_cortada):\n",
    "        \n",
    "        \n",
    "        P_palavra0 = laplace0(frase_cortada[i])\n",
    "        P_palavra1 = laplace1(frase_cortada[i])\n",
    "        P_palavra2 = laplace2(frase_cortada[i])\n",
    "        P_palavra3 = laplace3(frase_cortada[i])\n",
    "        P_palavra4 = laplace4(frase_cortada[i])\n",
    "        \n",
    "        probFraseDado0 *= P_palavra0\n",
    "        probFraseDado1 *= P_palavra1\n",
    "        probFraseDado2 *= P_palavra2\n",
    "        probFraseDado3 *= P_palavra3\n",
    "        probFraseDado4 *= P_palavra4\n",
    "        i += 1\n",
    "    resp0 = probFraseDado0*prob0\n",
    "    resp1 = probFraseDado1*prob1\n",
    "    resp2 = probFraseDado2*prob2\n",
    "    resp3 = probFraseDado3*prob3\n",
    "    resp4 = probFraseDado4*prob4\n",
    "        \n",
    "\n",
    "    resps.append(resp0)\n",
    "    resps.append(resp1)\n",
    "    resps.append(resp2)\n",
    "    resps.append(resp3)\n",
    "    resps.append(resp4)\n",
    "\n",
    "    if max(resps) == resp2:\n",
    "        return 2\n",
    "    if max(resps) == resp0:\n",
    "        return 0\n",
    "    if max(resps) == resp1:\n",
    "        return 1\n",
    "    if max(resps) == resp3:\n",
    "        return 3\n",
    "    if max(resps) == resp4:\n",
    "        return 4\n",
    "\n",
    "#A função Accuracy calcula a precisão do classificador. Para tanto, ela pega os valores retornados da função Classifica e vê se são os mesmos presentes no dataframe.\n",
    "\n",
    "def accuracy():\n",
    "    certo = 0\n",
    "    numer = []\n",
    "    for index, row in test.iterrows():\n",
    "        r = classifica(corta_frase(row['Teste']))\n",
    "        if r == row['Classificação']:\n",
    "            certo += 1\n",
    "    numer.append(r)\n",
    "    return certo/len(test)\n",
    "\n",
    "#Aqui estão os cálculos da suavização de Laplace. Criamos uma função para cada classificação.\n",
    "def laplace0(x):\n",
    "    if x not in tabela_tts_mir:\n",
    "        qtd = 1\n",
    "    else:\n",
    "        qtd = 1 + tabela_tts_mir[x]\n",
    "        \n",
    "    deno = len(serie_tweets0) + len(set(serie_tweets_geral))\n",
    "    return qtd/deno\n",
    "\n",
    "def laplace1(x):\n",
    "    if x not in tabela_tts_ir:\n",
    "        qtd = 1\n",
    "    else:\n",
    "        qtd = 1 + tabela_tts_ir[x]\n",
    "        \n",
    "    deno = len(serie_tweets1) + len(set(serie_tweets_geral))\n",
    "    return qtd/deno\n",
    "\n",
    "def laplace2(x):\n",
    "    if x not in tabela_tts_n:\n",
    "        qtd = 1\n",
    "    else:\n",
    "        qtd = 1 + tabela_tts_n[x]\n",
    "        \n",
    "    deno = len(serie_tweets2) + len(set(serie_tweets_geral))\n",
    "    return qtd/deno\n",
    "\n",
    "def laplace3(x):\n",
    "    if x not in tabela_tts_r:\n",
    "        qtd = 1\n",
    "    else:\n",
    "        qtd = 1 + tabela_tts_r[x]\n",
    "        \n",
    "    deno = len(serie_tweets3) + len(set(serie_tweets_geral))\n",
    "    return qtd/deno\n",
    "\n",
    "def laplace4(x):\n",
    "    if x not in tabela_tts_mr:\n",
    "        qtd = 1\n",
    "    else:\n",
    "        qtd = 1 + tabela_tts_mr[x]\n",
    "        \n",
    "    deno = len(serie_tweets5) + len(set(serie_tweets_geral))\n",
    "    return qtd/deno"
   ]
  },
  {
   "cell_type": "code",
   "execution_count": 8,
   "metadata": {
    "id": "kiLXHQdVX15Z"
   },
   "outputs": [],
   "source": [
    "#Aqui é o começo do caminho de classificação. \n",
    "#O primeiro passo é criar dataframes só com os tweets de cada categoria\n",
    "#Fazemos isso usando a função loc do pandas\n",
    "\n",
    "filtra_linhas_0 = train['Classificação'] == 0\n",
    "mir = train.loc[filtra_linhas_0, :]\n",
    "\n",
    "filtra_linhas_1 = train['Classificação'] == 1\n",
    "ir = train.loc[filtra_linhas_1, :]\n",
    "\n",
    "filtra_linhas_2 = train['Classificação'] == 2\n",
    "n = train.loc[filtra_linhas_2, :]\n",
    "\n",
    "filtra_linhas_3 = train['Classificação'] == 3\n",
    "r = train.loc[filtra_linhas_3, :]\n",
    "\n",
    "filtra_linhas_4 = train['Classificação'] == 4\n",
    "mr = train.loc[filtra_linhas_4, :]\n",
    "\n",
    "\n",
    "#/----------------------------------------------------/\n",
    "\n",
    "#Agora que temos dataframes com tweets de mesma classificação, vamos começar a limpar os textos\n",
    "#O primeiro passo é transformar todas as linhas da coluna \"Treinamento\" em uma string MUITO grande\n",
    "\n",
    "m_i_r = mir['Treinamento'].to_string().lower()\n",
    "\n",
    "#Agora nós passamos a string na função que limpa URLs, menções e outros marcadores que podem prejudicar o classificador\n",
    "#Como faz parte da rubrica, nós deixamos os emojis dentro da string\n",
    "\n",
    "m_i_r2 = text_preproc(m_i_r)\n",
    "\n",
    "#Essa linha agora simplesmente separa a string em uma lista gigante de palavras\n",
    "m_i_r3 = m_i_r2.split()\n",
    "\n",
    "#Criamos uma Series para usar o value_counts\n",
    "serie_tweets0 = pd.Series(m_i_r3)\n",
    "\n",
    "#Por fim, criamos uma tabela de tweets relativa (mostra a porcentagem da palavra) e uma geral (mostra quantas vezes apareceu)\n",
    "tabela_tts_mir_relativa = serie_tweets0.value_counts(True)\n",
    "tabela_tts_mir = serie_tweets0.value_counts()\n",
    "\n",
    "#Repetimos esse processo para todas as classes\n",
    "\n",
    "ir_1 = ir['Treinamento'].to_string().lower()\n",
    "ir2 = text_preproc(ir_1)\n",
    "ir3 = ir2.split()\n",
    "serie_tweets1 = pd.Series(ir3)\n",
    "tabela_tts_ir_relativa = serie_tweets1.value_counts(True)\n",
    "tabela_tts_ir = serie_tweets1.value_counts()\n",
    "\n",
    "n_1 = n['Treinamento'].to_string().lower()\n",
    "n2 = text_preproc(n_1)\n",
    "n3 = n2.split()\n",
    "serie_tweets2 = pd.Series(n3)\n",
    "tabela_tts_n_relativa = serie_tweets2.value_counts(True)\n",
    "tabela_tts_n = serie_tweets2.value_counts()\n",
    "\n",
    "r_1 = r['Treinamento'].to_string().lower()\n",
    "r_2 = text_preproc(r_1)\n",
    "r_3 = r_2.split()\n",
    "serie_tweets3 = pd.Series(r_3)\n",
    "tabela_tts_r_relativa = serie_tweets3.value_counts(True)\n",
    "tabela_tts_r = serie_tweets3.value_counts()\n",
    "\n",
    "mr_1 = mr['Treinamento'].to_string().lower()\n",
    "mr2 = text_preproc(mr_1)\n",
    "mr3 = mr2.split()\n",
    "serie_tweets5 = pd.Series(mr3)\n",
    "tabela_tts_mr_relativa = serie_tweets5.value_counts(True)\n",
    "tabela_tts_mr = serie_tweets5.value_counts()\n",
    "\n",
    "geral = train['Treinamento'].to_string().lower()\n",
    "geral2 = text_preproc(geral)\n",
    "geral3 = geral2.split()\n",
    "serie_tweets_geral = pd.Series(geral3)\n",
    "tabela_tts_geral_relativa = serie_tweets_geral.value_counts(True)\n",
    "tabela_tts_geral = serie_tweets_geral.value_counts()"
   ]
  },
  {
   "cell_type": "code",
   "execution_count": 9,
   "metadata": {
    "id": "ZOrSe_7OX15Z"
   },
   "outputs": [],
   "source": [
    "#Essa célula cria a variável universal. Ela tem o valor da quantidade de todas as palavras presentes nos tweets.\n",
    "todos = [m_i_r2, ir2, n2, r_2, mr2]\n",
    "i = 0\n",
    "tabela_geral = ''\n",
    "while i < len(todos):\n",
    "    tabela_geral += todos[i]\n",
    "    i += 1\n",
    "\n",
    "i = 0\n",
    "universal = 0\n",
    "while i < len(todos):\n",
    "    universal += len(todos[i])\n",
    "    i += 1\n",
    "\n",
    "todas_palavras = tabela_geral.split()\n",
    "serie_geral = pd.Series(todas_palavras)\n",
    "\n",
    "tabela_geral_relativa = serie_geral.value_counts(True)\n"
   ]
  },
  {
   "cell_type": "code",
   "execution_count": 10,
   "metadata": {},
   "outputs": [
    {
     "name": "stdout",
     "output_type": "stream",
     "text": [
      "149    na dúvida de qual comprar  ... iphone 12 ou samsung note 20 🤔🤔🤔\n",
      " na dúvida de qual comprar iphone ou samsung note 🤔🤔🤔\n"
     ]
    }
   ],
   "source": [
    "#Aqui nós pegamos um tweet aleatório para testar\n",
    "tt = test['Teste'].sample().to_string().lower()\n",
    "print(tt)\n",
    "\n",
    "tt10 = cleanup(tt)\n",
    "xa = re.sub(r'\\w*\\d+\\w*', '', tt10)\n",
    "xb = re.sub(\"@\\S+\", \" \", xa)\n",
    "xc = re.sub(\"https*\\S+\", \" \", xb)\n",
    "xd = limpa_txt(xc)\n",
    "print(xd)"
   ]
  },
  {
   "cell_type": "markdown",
   "metadata": {
    "id": "c8gg4NdtX15Z"
   },
   "source": [
    "___\n",
    "### Verificando a performance do Classificador\n",
    "\n",
    "Agora você deve testar o seu classificador com a base de Testes."
   ]
  },
  {
   "cell_type": "code",
   "execution_count": 11,
   "metadata": {},
   "outputs": [
    {
     "name": "stdout",
     "output_type": "stream",
     "text": [
      "['na', 'dúvida', 'de', 'qual', 'comprar', 'iphone', 'ou', 'samsung', 'note', '🤔🤔🤔']\n"
     ]
    }
   ],
   "source": [
    "frase_cortada = xd.split()\n",
    "\n",
    "\n",
    "print(frase_cortada)"
   ]
  },
  {
   "cell_type": "code",
   "execution_count": 12,
   "metadata": {},
   "outputs": [
    {
     "name": "stdout",
     "output_type": "stream",
     "text": [
      "0.3358807199226426 0.23445834243114258 0.14279921394928102 0.11711219938238872 0.16974952431454507\n"
     ]
    }
   ],
   "source": [
    "prob0 = len(m_i_r2)/universal\n",
    "prob1 = len(ir2)/universal\n",
    "prob2 = len(n2)/universal\n",
    "prob3 = len(r_2)/universal\n",
    "prob4 = len(mr2)/universal\n",
    "print(prob0,prob1,prob2,prob3,prob4)"
   ]
  },
  {
   "cell_type": "code",
   "execution_count": 13,
   "metadata": {},
   "outputs": [
    {
     "name": "stdout",
     "output_type": "stream",
     "text": [
      "4\n"
     ]
    }
   ],
   "source": [
    "print(classifica(frase_cortada))"
   ]
  },
  {
   "cell_type": "code",
   "execution_count": 14,
   "metadata": {},
   "outputs": [
    {
     "name": "stdout",
     "output_type": "stream",
     "text": [
      "0.4498714652956298\n"
     ]
    }
   ],
   "source": [
    "#Aqui nós passamos a testar com todos os elementos da tabela test. Após isso começamos a cruzar os dados.\n",
    "certo = 0\n",
    "numer = []\n",
    "for index, row in test.iterrows():\n",
    "    r = classifica(text_preproc(row['Teste']).split())\n",
    "    if r == row['Classificação']:\n",
    "        certo += 1\n",
    "    numer.append(r)\n",
    "print(certo/len(test))\n"
   ]
  },
  {
   "cell_type": "markdown",
   "metadata": {
    "id": "uy1PtkOjX15a"
   },
   "source": [
    "___\n",
    "### Concluindo"
   ]
  },
  {
   "cell_type": "markdown",
   "metadata": {
    "id": "1O3RDIVHX15a"
   },
   "source": [
    "Esse classificador Naive Bayes tem acurácia de aproximadamente 45%. Para ter um melhor desempenho acreditamos que uma base de dados maior é crucial, uma vez que a atual tem apenas 1323 tweets.\n",
    "Como está ainda em desenvolvimento, se usássemos esse classificador para gerar novos testes, os resultados seriam muito pouco confiáveis, causando mais trabalho humano para conferir os erros do programa."
   ]
  },
  {
   "cell_type": "markdown",
   "metadata": {},
   "source": [
    "Classificadores assim podem ser usados em diversos setores. Eles podem estar presentes desde campanhas eleitorais, um grande exemplo é a eleição americana de 2008, em que a equipe de Obama utilizou inteligência artificial para calcular as áreas mais prováveis dele conseguir mais votos. Além disso, esses códigos podem servir para fazer sugestões de vendas para um cliente com base no seu histórico. "
   ]
  },
  {
   "cell_type": "markdown",
   "metadata": {},
   "source": [
    "Como o código não é perfeito e não consegue entender algumas nuances da língua, o uso de um classificador para gerar mais amostras de treinamento seria um grande erro, uma vez que o programa criaria uma base de dados enviesada. Isso faria com que o classificador ficasse totalmente perdido, visto que ele começaria a classificar tweets de maneira errada e isso bagunçaria sua base de dados."
   ]
  },
  {
   "cell_type": "code",
   "execution_count": 15,
   "metadata": {
    "id": "ET176hzMX15a"
   },
   "outputs": [
    {
     "data": {
      "text/html": [
       "<div>\n",
       "<style scoped>\n",
       "    .dataframe tbody tr th:only-of-type {\n",
       "        vertical-align: middle;\n",
       "    }\n",
       "\n",
       "    .dataframe tbody tr th {\n",
       "        vertical-align: top;\n",
       "    }\n",
       "\n",
       "    .dataframe thead th {\n",
       "        text-align: right;\n",
       "    }\n",
       "</style>\n",
       "<table border=\"1\" class=\"dataframe\">\n",
       "  <thead>\n",
       "    <tr style=\"text-align: right;\">\n",
       "      <th>Classificação</th>\n",
       "      <th>0.0</th>\n",
       "      <th>1.0</th>\n",
       "      <th>2.0</th>\n",
       "      <th>3.0</th>\n",
       "      <th>4.0</th>\n",
       "    </tr>\n",
       "    <tr>\n",
       "      <th>Classificador</th>\n",
       "      <th></th>\n",
       "      <th></th>\n",
       "      <th></th>\n",
       "      <th></th>\n",
       "      <th></th>\n",
       "    </tr>\n",
       "  </thead>\n",
       "  <tbody>\n",
       "    <tr>\n",
       "      <th>0</th>\n",
       "      <td>134</td>\n",
       "      <td>24</td>\n",
       "      <td>13</td>\n",
       "      <td>9</td>\n",
       "      <td>4</td>\n",
       "    </tr>\n",
       "    <tr>\n",
       "      <th>1</th>\n",
       "      <td>61</td>\n",
       "      <td>31</td>\n",
       "      <td>13</td>\n",
       "      <td>9</td>\n",
       "      <td>4</td>\n",
       "    </tr>\n",
       "    <tr>\n",
       "      <th>2</th>\n",
       "      <td>14</td>\n",
       "      <td>4</td>\n",
       "      <td>3</td>\n",
       "      <td>2</td>\n",
       "      <td>3</td>\n",
       "    </tr>\n",
       "    <tr>\n",
       "      <th>3</th>\n",
       "      <td>11</td>\n",
       "      <td>4</td>\n",
       "      <td>2</td>\n",
       "      <td>2</td>\n",
       "      <td>0</td>\n",
       "    </tr>\n",
       "    <tr>\n",
       "      <th>4</th>\n",
       "      <td>18</td>\n",
       "      <td>5</td>\n",
       "      <td>2</td>\n",
       "      <td>11</td>\n",
       "      <td>5</td>\n",
       "    </tr>\n",
       "  </tbody>\n",
       "</table>\n",
       "</div>"
      ],
      "text/plain": [
       "Classificação  0.0  1.0  2.0  3.0  4.0\n",
       "Classificador                         \n",
       "0              134   24   13    9    4\n",
       "1               61   31   13    9    4\n",
       "2               14    4    3    2    3\n",
       "3               11    4    2    2    0\n",
       "4               18    5    2   11    5"
      ]
     },
     "execution_count": 15,
     "metadata": {},
     "output_type": "execute_result"
    }
   ],
   "source": [
    "#pd.crosstab\n",
    "cross = test\n",
    "cross['Classificador'] = numer\n",
    "pd.crosstab(cross.Classificador,cross.Classificação)"
   ]
  },
  {
   "cell_type": "code",
   "execution_count": 16,
   "metadata": {},
   "outputs": [
    {
     "data": {
      "text/html": [
       "<div>\n",
       "<style scoped>\n",
       "    .dataframe tbody tr th:only-of-type {\n",
       "        vertical-align: middle;\n",
       "    }\n",
       "\n",
       "    .dataframe tbody tr th {\n",
       "        vertical-align: top;\n",
       "    }\n",
       "\n",
       "    .dataframe thead th {\n",
       "        text-align: right;\n",
       "    }\n",
       "</style>\n",
       "<table border=\"1\" class=\"dataframe\">\n",
       "  <thead>\n",
       "    <tr style=\"text-align: right;\">\n",
       "      <th></th>\n",
       "      <th>Teste</th>\n",
       "      <th>Classificação</th>\n",
       "      <th>Classificador</th>\n",
       "    </tr>\n",
       "  </thead>\n",
       "  <tbody>\n",
       "    <tr>\n",
       "      <th>0</th>\n",
       "      <td>queria lançar o iphone 12 mas é mto dinheiro numa coisa só, o certo é pegar o 11 que ai já da pra pegar agr</td>\n",
       "      <td>4.0</td>\n",
       "      <td>1</td>\n",
       "    </tr>\n",
       "    <tr>\n",
       "      <th>1</th>\n",
       "      <td>ganhei um iphone 12 pro max e o apple watch de presente 😍😍😍😍😍😍😍😍😍😍😍😍</td>\n",
       "      <td>0.0</td>\n",
       "      <td>0</td>\n",
       "    </tr>\n",
       "    <tr>\n",
       "      <th>2</th>\n",
       "      <td>@forsjin iphone? meu namorado pagou 1k no 12 fiquei em choque vius</td>\n",
       "      <td>1.0</td>\n",
       "      <td>1</td>\n",
       "    </tr>\n",
       "    <tr>\n",
       "      <th>3</th>\n",
       "      <td>tem uma criança que tá do meu lado que tem um iphone x e a mãe dele tem um 12 pro max. tô indignado com meu j7 todo quebrado</td>\n",
       "      <td>1.0</td>\n",
       "      <td>0</td>\n",
       "    </tr>\n",
       "    <tr>\n",
       "      <th>4</th>\n",
       "      <td>pensando que é tão besteira pra mim trocar meu iphone 11 pro 12 no natal</td>\n",
       "      <td>1.0</td>\n",
       "      <td>0</td>\n",
       "    </tr>\n",
       "    <tr>\n",
       "      <th>...</th>\n",
       "      <td>...</td>\n",
       "      <td>...</td>\n",
       "      <td>...</td>\n",
       "    </tr>\n",
       "    <tr>\n",
       "      <th>384</th>\n",
       "      <td>devo vender toda minha coleção pra comprar um iphone 12 pro max 512gb?</td>\n",
       "      <td>2.0</td>\n",
       "      <td>1</td>\n",
       "    </tr>\n",
       "    <tr>\n",
       "      <th>385</th>\n",
       "      <td>eu preciso de um iphone 12 😪</td>\n",
       "      <td>0.0</td>\n",
       "      <td>1</td>\n",
       "    </tr>\n",
       "    <tr>\n",
       "      <th>386</th>\n",
       "      <td>tem um cara falando q vai me dar um iphone 12 pro max 😢😢😢😢😢😢😢 isso tem q ser vdd</td>\n",
       "      <td>2.0</td>\n",
       "      <td>1</td>\n",
       "    </tr>\n",
       "    <tr>\n",
       "      <th>387</th>\n",
       "      <td>@kiki_djavando era só um iphone 12</td>\n",
       "      <td>0.0</td>\n",
       "      <td>0</td>\n",
       "    </tr>\n",
       "    <tr>\n",
       "      <th>388</th>\n",
       "      <td>iphone 12 pro max 128gb  novo lacrado 📱🍎\\n\\n1 ano de garantia apple ✅\\n\\nr$ 7.499,00 128gb a vista já com desconto! 💸\\n\\nproduto importado direto dos estados unidos 🇺🇸 \\n\\nou parcelamos até 12x  no cartão de crédito 💳 \\n\\naceitamos pix, ted, paypal 💸\\n\\nentregas para todo brasil 📦🇧🇷 https://t.co/sxa80ecfgw</td>\n",
       "      <td>0.0</td>\n",
       "      <td>3</td>\n",
       "    </tr>\n",
       "  </tbody>\n",
       "</table>\n",
       "<p>389 rows × 3 columns</p>\n",
       "</div>"
      ],
      "text/plain": [
       "                                                                                                                                                                                                                                                                                                                   Teste  \\\n",
       "0                                                                                                                                                                                                            queria lançar o iphone 12 mas é mto dinheiro numa coisa só, o certo é pegar o 11 que ai já da pra pegar agr   \n",
       "1                                                                                                                                                                                                                                                   ganhei um iphone 12 pro max e o apple watch de presente 😍😍😍😍😍😍😍😍😍😍😍😍   \n",
       "2                                                                                                                                                                                                                                                     @forsjin iphone? meu namorado pagou 1k no 12 fiquei em choque vius   \n",
       "3                                                                                                                                                                                           tem uma criança que tá do meu lado que tem um iphone x e a mãe dele tem um 12 pro max. tô indignado com meu j7 todo quebrado   \n",
       "4                                                                                                                                                                                                                                               pensando que é tão besteira pra mim trocar meu iphone 11 pro 12 no natal   \n",
       "..                                                                                                                                                                                                                                                                                                                   ...   \n",
       "384                                                                                                                                                                                                                                               devo vender toda minha coleção pra comprar um iphone 12 pro max 512gb?   \n",
       "385                                                                                                                                                                                                                                                                                         eu preciso de um iphone 12 😪   \n",
       "386                                                                                                                                                                                                                                     tem um cara falando q vai me dar um iphone 12 pro max 😢😢😢😢😢😢😢 isso tem q ser vdd   \n",
       "387                                                                                                                                                                                                                                                                                   @kiki_djavando era só um iphone 12   \n",
       "388  iphone 12 pro max 128gb  novo lacrado 📱🍎\\n\\n1 ano de garantia apple ✅\\n\\nr$ 7.499,00 128gb a vista já com desconto! 💸\\n\\nproduto importado direto dos estados unidos 🇺🇸 \\n\\nou parcelamos até 12x  no cartão de crédito 💳 \\n\\naceitamos pix, ted, paypal 💸\\n\\nentregas para todo brasil 📦🇧🇷 https://t.co/sxa80ecfgw   \n",
       "\n",
       "     Classificação  Classificador  \n",
       "0              4.0              1  \n",
       "1              0.0              0  \n",
       "2              1.0              1  \n",
       "3              1.0              0  \n",
       "4              1.0              0  \n",
       "..             ...            ...  \n",
       "384            2.0              1  \n",
       "385            0.0              1  \n",
       "386            2.0              1  \n",
       "387            0.0              0  \n",
       "388            0.0              3  \n",
       "\n",
       "[389 rows x 3 columns]"
      ]
     },
     "execution_count": 16,
     "metadata": {},
     "output_type": "execute_result"
    }
   ],
   "source": [
    "#Aqui tem um dataframe que mostra a classificação manual x classificação do programa\n",
    "cross"
   ]
  },
  {
   "cell_type": "markdown",
   "metadata": {
    "id": "TKGNd3ExX15b"
   },
   "source": [
    "___\n",
    "### Qualidade do Classificador a partir de novas separações dos tweets entre Treinamento e Teste\n",
    "\n",
    "Caso for fazer esse item do Projeto"
   ]
  },
  {
   "cell_type": "code",
   "execution_count": 17,
   "metadata": {
    "id": "I22gjLB9X15b"
   },
   "outputs": [],
   "source": [
    "#sk.learn\n"
   ]
  },
  {
   "cell_type": "code",
   "execution_count": null,
   "metadata": {
    "id": "r2OyODHLX15b"
   },
   "outputs": [],
   "source": []
  },
  {
   "cell_type": "code",
   "execution_count": null,
   "metadata": {
    "id": "ERXPVeWNX15b"
   },
   "outputs": [],
   "source": []
  },
  {
   "cell_type": "markdown",
   "metadata": {
    "id": "LeuFLsOBX15b"
   },
   "source": [
    "___\n",
    "## Aperfeiçoamento:\n",
    "\n",
    "Trabalhos que conseguirem pelo menos conceito B vão evoluir em conceito dependendo da quantidade de itens avançados:\n",
    "\n",
    "* IMPLEMENTOU outras limpezas e transformações que não afetem a qualidade da informação contida nos tweets. Ex: stemming, lemmatization, stopwords\n",
    "* CORRIGIU separação de espaços entre palavras e emojis ou entre emojis e emojis\n",
    "* CRIOU categorias intermediárias de relevância baseadas na probabilidade: ex.: muito relevante, relevante, neutro, irrelevante, muito irrelevante. Pelo menos quatro categorias, com adição de mais tweets na base, conforme enunciado. (OBRIGATÓRIO PARA TRIOS, sem contar como item avançado)\n",
    "* EXPLICOU porquê não pode usar o próprio classificador para gerar mais amostras de treinamento\n",
    "* PROPÔS diferentes cenários para Naïve Bayes fora do contexto do projeto\n",
    "* SUGERIU e EXPLICOU melhorias reais com indicações concretas de como implementar (indicar como fazer e indicar material de pesquisa)\n",
    "* FEZ o item 6. Qualidade do Classificador a partir de novas separações dos tweets entre Treinamento e Teste descrito no enunciado do projeto (OBRIGATÓRIO para conceitos A ou A+)"
   ]
  },
  {
   "cell_type": "markdown",
   "metadata": {
    "id": "8aPSt83FX15c"
   },
   "source": [
    "___\n",
    "## Referências"
   ]
  },
  {
   "cell_type": "markdown",
   "metadata": {
    "id": "EzwdbIpaX15c"
   },
   "source": [
    "[Naive Bayes and Text Classification](https://arxiv.org/pdf/1410.5329.pdf)  **Mais completo**\n",
    "\n",
    "[A practical explanation of a Naive Bayes Classifier](https://monkeylearn.com/blog/practical-explanation-naive-bayes-classifier/) **Mais simples**"
   ]
  },
  {
   "cell_type": "markdown",
   "metadata": {
    "id": "W9sOI_4wX15c"
   },
   "source": [
    "[Cleaning Text Data with Python](https://towardsdatascience.com/cleaning-text-data-with-python-b69b47b97b76) **Para formatação do texto**"
   ]
  }
 ],
 "metadata": {
  "colab": {
   "collapsed_sections": [],
   "name": "Cópia de Projeto1_Layout_Classificador.ipynb",
   "provenance": []
  },
  "kernelspec": {
   "display_name": "Python 3",
   "language": "python",
   "name": "python3"
  },
  "language_info": {
   "codemirror_mode": {
    "name": "ipython",
    "version": 3
   },
   "file_extension": ".py",
   "mimetype": "text/x-python",
   "name": "python",
   "nbconvert_exporter": "python",
   "pygments_lexer": "ipython3",
   "version": "3.8.5"
  }
 },
 "nbformat": 4,
 "nbformat_minor": 1
}
